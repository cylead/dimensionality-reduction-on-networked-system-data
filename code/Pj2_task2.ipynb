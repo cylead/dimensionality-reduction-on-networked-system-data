{
 "cells": [
  {
   "cell_type": "code",
   "execution_count": 1,
   "metadata": {},
   "outputs": [],
   "source": [
    "import pandas as pd\n",
    "from pandas import DataFrame\n",
    "import numpy as np\n",
    "import matplotlib.pyplot as plt\n",
    "import time\n",
    "from matplotlib.pyplot import MultipleLocator\n",
    "\n",
    "from sklearn.ensemble import ExtraTreesClassifier, RandomForestClassifier, RandomForestRegressor\n",
    "from sklearn.feature_selection import SelectFromModel\n",
    "from sklearn import linear_model\n",
    "from sklearn.decomposition import PCA\n",
    "from sklearn.preprocessing import StandardScaler"
   ]
  },
  {
   "cell_type": "code",
   "execution_count": 2,
   "metadata": {},
   "outputs": [],
   "source": [
    "trainF = pd.read_csv('./Data/trainF.csv')\n",
    "trainP = pd.read_csv('./Data/trainP.csv')\n",
    "testF = pd.read_csv('./Data/testF.csv')\n",
    "testP = pd.read_csv('./Data/testP.csv')\n"
   ]
  },
  {
   "cell_type": "code",
   "execution_count": 3,
   "metadata": {},
   "outputs": [],
   "source": [
    "trainF = trainF.drop(\"TimeStamp\",1)\n",
    "testF= testF.drop(\"TimeStamp\",1)\n",
    "trainP = trainP.drop(\"TimeStamp\",1)\n",
    "testP= testP.drop(\"TimeStamp\",1)"
   ]
  },
  {
   "cell_type": "code",
   "execution_count": 4,
   "metadata": {},
   "outputs": [],
   "source": [
    "trainF = trainF.drop(\"Unnamed: 0\",1)"
   ]
  },
  {
   "cell_type": "code",
   "execution_count": 5,
   "metadata": {},
   "outputs": [],
   "source": [
    "testF= testF.drop(\"Unnamed: 0\",1)\n",
    "trainP = trainP.drop(\"Unnamed: 0\",1)\n",
    "testP= testP.drop(\"Unnamed: 0\",1)"
   ]
  },
  {
   "cell_type": "code",
   "execution_count": 33,
   "metadata": {},
   "outputs": [],
   "source": [
    "# periodic \n",
    "X_train_P = trainP.iloc[:,:-2]\n",
    "X_test_P = testP.iloc[:,:-2]\n",
    "\n",
    "Y_train_P = trainP['ReadsAvg']\n",
    "Y_test_P = testP['ReadsAvg']\n"
   ]
  },
  {
   "cell_type": "code",
   "execution_count": 38,
   "metadata": {},
   "outputs": [],
   "source": [
    "# flash\n",
    "X_train_F = trainF.iloc[:,:-2]\n",
    "X_test_F = testF.iloc[:,:-2]\n",
    "\n",
    "Y_train_F = trainF['ReadsAvg']\n",
    "Y_test_F = testF['ReadsAvg']\n"
   ]
  },
  {
   "cell_type": "code",
   "execution_count": null,
   "metadata": {},
   "outputs": [],
   "source": []
  },
  {
   "cell_type": "markdown",
   "metadata": {},
   "source": [
    "### combine 2 traces"
   ]
  },
  {
   "cell_type": "code",
   "execution_count": 14,
   "metadata": {},
   "outputs": [],
   "source": [
    "trainC = pd.concat([trainF,trainP], join='inner')\n",
    "#testC = pd.concat([testF,testP], join='inner')"
   ]
  },
  {
   "cell_type": "code",
   "execution_count": 15,
   "metadata": {},
   "outputs": [
    {
     "name": "stdout",
     "output_type": "stream",
     "text": [
      "(16941, 1715)\n",
      "(7262, 1715)\n"
     ]
    }
   ],
   "source": [
    "print(trainC.shape)\n",
    "print(testC.shape)"
   ]
  },
  {
   "cell_type": "code",
   "execution_count": 17,
   "metadata": {},
   "outputs": [],
   "source": [
    "# Extract X,Y components from test and train sets\n",
    "\n",
    "X_train = trainC.iloc[:,:-2]\n",
    "X_test = testC.iloc[:,:-2]\n",
    "\n",
    "Y_train = trainC[\"ReadsAvg\"]\n",
    "Y_test =testC[\"ReadsAvg\"]\n"
   ]
  },
  {
   "cell_type": "raw",
   "metadata": {},
   "source": [
    "# save to csv\n",
    "X_train.to_csv(\"./Data/X_train.csv\")\n",
    "X_test.to_csv(\"./Data/X_test.csv\")\n",
    "Y_train.to_csv(\"./Data/Y_train.csv\")\n",
    "Y_test.to_csv(\"./Data/Y_test.csv\")"
   ]
  },
  {
   "cell_type": "markdown",
   "metadata": {},
   "source": [
    "### correlation"
   ]
  },
  {
   "cell_type": "code",
   "execution_count": 40,
   "metadata": {},
   "outputs": [],
   "source": [
    "from scipy.stats import pearsonr"
   ]
  },
  {
   "cell_type": "code",
   "execution_count": 40,
   "metadata": {},
   "outputs": [],
   "source": [
    "corr  = []\n",
    "for i in range(X_train.shape[1]):\n",
    "    #print(i)\n",
    "    tmp1, tmp2 = pearsonr(X_train.iloc[:,i].values, Y_train.values.reshape(-1))\n",
    "    corr.append(tmp1)"
   ]
  },
  {
   "cell_type": "code",
   "execution_count": 52,
   "metadata": {},
   "outputs": [],
   "source": [
    "read_p_c = DataFrame(corr, index=X_train.columns,columns = ['pc'])"
   ]
  },
  {
   "cell_type": "code",
   "execution_count": 41,
   "metadata": {},
   "outputs": [
    {
     "name": "stderr",
     "output_type": "stream",
     "text": [
      "/opt/conda/lib/python3.7/site-packages/scipy/stats/stats.py:3845: PearsonRConstantInputWarning: An input array is constant; the correlation coefficent is not defined.\n",
      "  warnings.warn(PearsonRConstantInputWarning())\n"
     ]
    }
   ],
   "source": [
    "# flash\n",
    "corrF  = []\n",
    "for i in range(X_train_F.shape[1]):\n",
    "    #print(i)\n",
    "    tmp1, tmp2 = pearsonr(X_train_F.iloc[:,i].values, Y_train_F.values.reshape(-1))\n",
    "    corrF.append(tmp1)"
   ]
  },
  {
   "cell_type": "code",
   "execution_count": 52,
   "metadata": {},
   "outputs": [],
   "source": [
    "read_p_c_F = DataFrame(corrF, index=X_train_F.columns,columns = ['pc'])\n",
    "read_p_c_F.sort_values(ascending=False,by = 'pc').to_csv(\"./Data/readF_p_c.csv\")"
   ]
  },
  {
   "cell_type": "code",
   "execution_count": 53,
   "metadata": {},
   "outputs": [
    {
     "name": "stderr",
     "output_type": "stream",
     "text": [
      "/opt/conda/lib/python3.7/site-packages/scipy/stats/stats.py:3845: PearsonRConstantInputWarning: An input array is constant; the correlation coefficent is not defined.\n",
      "  warnings.warn(PearsonRConstantInputWarning())\n"
     ]
    }
   ],
   "source": [
    "# peri\n",
    "corrP  = []\n",
    "for i in range(X_train_P.shape[1]):\n",
    "    #print(i)\n",
    "    tmp1, tmp2 = pearsonr(X_train_P.iloc[:,i].values, Y_train_P.values.reshape(-1))\n",
    "    corrP.append(tmp1)"
   ]
  },
  {
   "cell_type": "code",
   "execution_count": 54,
   "metadata": {},
   "outputs": [],
   "source": [
    "read_p_c_P = DataFrame(corrP, index=X_train_P.columns,columns = ['pc'])\n",
    "read_p_c_P.sort_values(ascending=False,by = 'pc').to_csv(\"./Data/readP_p_c.csv\")"
   ]
  },
  {
   "cell_type": "code",
   "execution_count": 58,
   "metadata": {},
   "outputs": [
    {
     "data": {
      "text/html": [
       "<div>\n",
       "<style scoped>\n",
       "    .dataframe tbody tr th:only-of-type {\n",
       "        vertical-align: middle;\n",
       "    }\n",
       "\n",
       "    .dataframe tbody tr th {\n",
       "        vertical-align: top;\n",
       "    }\n",
       "\n",
       "    .dataframe thead th {\n",
       "        text-align: right;\n",
       "    }\n",
       "</style>\n",
       "<table border=\"1\" class=\"dataframe\">\n",
       "  <thead>\n",
       "    <tr style=\"text-align: right;\">\n",
       "      <th></th>\n",
       "      <th>pc</th>\n",
       "    </tr>\n",
       "  </thead>\n",
       "  <tbody>\n",
       "    <tr>\n",
       "      <th>1_i127_intr.s</th>\n",
       "      <td>0.702175</td>\n",
       "    </tr>\n",
       "    <tr>\n",
       "      <th>1_iseg.s</th>\n",
       "      <td>0.690102</td>\n",
       "    </tr>\n",
       "    <tr>\n",
       "      <th>1_irec.s</th>\n",
       "      <td>0.690087</td>\n",
       "    </tr>\n",
       "    <tr>\n",
       "      <th>1_idel.s</th>\n",
       "      <td>0.690086</td>\n",
       "    </tr>\n",
       "    <tr>\n",
       "      <th>4_i123_intr.s</th>\n",
       "      <td>0.688502</td>\n",
       "    </tr>\n",
       "    <tr>\n",
       "      <th>...</th>\n",
       "      <td>...</td>\n",
       "    </tr>\n",
       "    <tr>\n",
       "      <th>1_estres.s</th>\n",
       "      <td>NaN</td>\n",
       "    </tr>\n",
       "    <tr>\n",
       "      <th>2_cpu0_.irq</th>\n",
       "      <td>NaN</td>\n",
       "    </tr>\n",
       "    <tr>\n",
       "      <th>3_estres.s</th>\n",
       "      <td>NaN</td>\n",
       "    </tr>\n",
       "    <tr>\n",
       "      <th>5_atmptf.s</th>\n",
       "      <td>NaN</td>\n",
       "    </tr>\n",
       "    <tr>\n",
       "      <th>5_estres.s</th>\n",
       "      <td>NaN</td>\n",
       "    </tr>\n",
       "  </tbody>\n",
       "</table>\n",
       "<p>1751 rows × 1 columns</p>\n",
       "</div>"
      ],
      "text/plain": [
       "                     pc\n",
       "1_i127_intr.s  0.702175\n",
       "1_iseg.s       0.690102\n",
       "1_irec.s       0.690087\n",
       "1_idel.s       0.690086\n",
       "4_i123_intr.s  0.688502\n",
       "...                 ...\n",
       "1_estres.s          NaN\n",
       "2_cpu0_.irq         NaN\n",
       "3_estres.s          NaN\n",
       "5_atmptf.s          NaN\n",
       "5_estres.s          NaN\n",
       "\n",
       "[1751 rows x 1 columns]"
      ]
     },
     "execution_count": 58,
     "metadata": {},
     "output_type": "execute_result"
    }
   ],
   "source": [
    "read_p_c_P.sort_values(ascending=False,by = 'pc')"
   ]
  },
  {
   "cell_type": "code",
   "execution_count": 59,
   "metadata": {},
   "outputs": [
    {
     "data": {
      "text/html": [
       "<div>\n",
       "<style scoped>\n",
       "    .dataframe tbody tr th:only-of-type {\n",
       "        vertical-align: middle;\n",
       "    }\n",
       "\n",
       "    .dataframe tbody tr th {\n",
       "        vertical-align: top;\n",
       "    }\n",
       "\n",
       "    .dataframe thead th {\n",
       "        text-align: right;\n",
       "    }\n",
       "</style>\n",
       "<table border=\"1\" class=\"dataframe\">\n",
       "  <thead>\n",
       "    <tr style=\"text-align: right;\">\n",
       "      <th></th>\n",
       "      <th>pc</th>\n",
       "    </tr>\n",
       "  </thead>\n",
       "  <tbody>\n",
       "    <tr>\n",
       "      <th>0_i133_intr.s</th>\n",
       "      <td>0.727733</td>\n",
       "    </tr>\n",
       "    <tr>\n",
       "      <th>0_i132_intr.s</th>\n",
       "      <td>0.723555</td>\n",
       "    </tr>\n",
       "    <tr>\n",
       "      <th>0_iseg.s</th>\n",
       "      <td>0.721552</td>\n",
       "    </tr>\n",
       "    <tr>\n",
       "      <th>0_idel.s</th>\n",
       "      <td>0.721540</td>\n",
       "    </tr>\n",
       "    <tr>\n",
       "      <th>0_irec.s</th>\n",
       "      <td>0.721538</td>\n",
       "    </tr>\n",
       "    <tr>\n",
       "      <th>...</th>\n",
       "      <td>...</td>\n",
       "    </tr>\n",
       "    <tr>\n",
       "      <th>3_cpu11_.iowait</th>\n",
       "      <td>NaN</td>\n",
       "    </tr>\n",
       "    <tr>\n",
       "      <th>3_cpu14_.iowait</th>\n",
       "      <td>NaN</td>\n",
       "    </tr>\n",
       "    <tr>\n",
       "      <th>3_cpu16_.iowait</th>\n",
       "      <td>NaN</td>\n",
       "    </tr>\n",
       "    <tr>\n",
       "      <th>4_cpu23_.soft</th>\n",
       "      <td>NaN</td>\n",
       "    </tr>\n",
       "    <tr>\n",
       "      <th>5_cpu10_.irq</th>\n",
       "      <td>NaN</td>\n",
       "    </tr>\n",
       "  </tbody>\n",
       "</table>\n",
       "<p>1723 rows × 1 columns</p>\n",
       "</div>"
      ],
      "text/plain": [
       "                       pc\n",
       "0_i133_intr.s    0.727733\n",
       "0_i132_intr.s    0.723555\n",
       "0_iseg.s         0.721552\n",
       "0_idel.s         0.721540\n",
       "0_irec.s         0.721538\n",
       "...                   ...\n",
       "3_cpu11_.iowait       NaN\n",
       "3_cpu14_.iowait       NaN\n",
       "3_cpu16_.iowait       NaN\n",
       "4_cpu23_.soft         NaN\n",
       "5_cpu10_.irq          NaN\n",
       "\n",
       "[1723 rows x 1 columns]"
      ]
     },
     "execution_count": 59,
     "metadata": {},
     "output_type": "execute_result"
    }
   ],
   "source": [
    "read_p_c_F.sort_values(ascending=False,by = 'pc')"
   ]
  },
  {
   "cell_type": "code",
   "execution_count": null,
   "metadata": {},
   "outputs": [],
   "source": []
  },
  {
   "cell_type": "markdown",
   "metadata": {},
   "source": [
    "### Tree based"
   ]
  },
  {
   "cell_type": "code",
   "execution_count": 18,
   "metadata": {},
   "outputs": [],
   "source": [
    "from sklearn.ensemble import ExtraTreesClassifier\n",
    "from sklearn.ensemble import RandomForestClassifier\n",
    "from sklearn.feature_selection import SelectFromModel\n",
    "\n",
    "Y_train_int=Y_train.astype(int)\n",
    "\n",
    "clf=ExtraTreesClassifier(n_estimators=100)\n",
    "clf.fit(X_train, Y_train_int)\n",
    "\n",
    "feat_importances = pd.Series(clf.feature_importances_, index=X_train.columns)"
   ]
  },
  {
   "cell_type": "code",
   "execution_count": 23,
   "metadata": {},
   "outputs": [
    {
     "name": "stderr",
     "output_type": "stream",
     "text": [
      "[Parallel(n_jobs=-1)]: Using backend ThreadingBackend with 8 concurrent workers.\n",
      "[Parallel(n_jobs=-1)]: Done  34 tasks      | elapsed:  2.1min\n"
     ]
    },
    {
     "name": "stdout",
     "output_type": "stream",
     "text": [
      "[0.00090706 0.00026541 0.0001029  ... 0.00295065 0.00065895 0.0007407 ]\n"
     ]
    },
    {
     "name": "stderr",
     "output_type": "stream",
     "text": [
      "[Parallel(n_jobs=-1)]: Done 100 out of 100 | elapsed:  5.4min finished\n"
     ]
    }
   ],
   "source": [
    "rf = RandomForestRegressor(n_estimators=100,verbose = 1 ,n_jobs = -1)\n",
    "rf.fit(X_train,Y_train)\n",
    "print(rf.feature_importances_)"
   ]
  },
  {
   "cell_type": "code",
   "execution_count": 24,
   "metadata": {},
   "outputs": [
    {
     "data": {
      "text/plain": [
       "0_all_..usr       0.000907\n",
       "0_all_..sys       0.000265\n",
       "0_all_..iowait    0.000103\n",
       "0_all_..soft      0.000093\n",
       "0_all_..idle      0.000307\n",
       "                    ...   \n",
       "40_TxBytes.1      0.000464\n",
       "41_RxPacktes.1    0.002484\n",
       "41_TxPacktes.1    0.002951\n",
       "41_RxBytes.1      0.000659\n",
       "41_TxBytes.1      0.000741\n",
       "Length: 1713, dtype: float64"
      ]
     },
     "execution_count": 24,
     "metadata": {},
     "output_type": "execute_result"
    }
   ],
   "source": [
    "tbnew = pd.Series(rf.feature_importances_, index=X_train.columns)\n",
    "tbnew"
   ]
  },
  {
   "cell_type": "code",
   "execution_count": 25,
   "metadata": {},
   "outputs": [],
   "source": [
    "tbnew.sort_values(ascending=False).to_csv(\"./Data/readC_t_b_new.csv\")"
   ]
  },
  {
   "cell_type": "code",
   "execution_count": 26,
   "metadata": {},
   "outputs": [
    {
     "data": {
      "text/plain": [
       "1_i127_intr.s      0.442833\n",
       "15_TxPacktes.1     0.021628\n",
       "4_TxPacktes.1      0.011262\n",
       "15_TxPacktes       0.009583\n",
       "4_RxPacktes        0.008939\n",
       "                     ...   \n",
       "5_cpu5_.iowait     0.000000\n",
       "1_cpu7_.iowait     0.000000\n",
       "0_cpu11_.iowait    0.000000\n",
       "2_cpu19_.iowait    0.000000\n",
       "1_cpu0_.irq        0.000000\n",
       "Length: 1713, dtype: float64"
      ]
     },
     "execution_count": 26,
     "metadata": {},
     "output_type": "execute_result"
    }
   ],
   "source": [
    "tbnew.sort_values(ascending=False)"
   ]
  },
  {
   "cell_type": "code",
   "execution_count": 60,
   "metadata": {},
   "outputs": [
    {
     "name": "stderr",
     "output_type": "stream",
     "text": [
      "[Parallel(n_jobs=-1)]: Using backend ThreadingBackend with 8 concurrent workers.\n",
      "[Parallel(n_jobs=-1)]: Done  34 tasks      | elapsed:   49.0s\n"
     ]
    },
    {
     "name": "stdout",
     "output_type": "stream",
     "text": [
      "[3.25719528e-04 4.37482899e-04 9.24866787e-05 ... 2.19648277e-04\n",
      " 2.15268869e-04 2.03400851e-04]\n"
     ]
    },
    {
     "name": "stderr",
     "output_type": "stream",
     "text": [
      "[Parallel(n_jobs=-1)]: Done 100 out of 100 | elapsed:  2.2min finished\n"
     ]
    }
   ],
   "source": [
    "# flash\n",
    "\n",
    "rff = RandomForestRegressor(n_estimators=100,verbose = 1 ,n_jobs = -1)\n",
    "rff.fit(X_train_F,Y_train_F)\n",
    "print(rff.feature_importances_)"
   ]
  },
  {
   "cell_type": "code",
   "execution_count": 61,
   "metadata": {},
   "outputs": [],
   "source": [
    "tbf = pd.Series(rff.feature_importances_, index=X_train_F.columns)\n",
    "tbf.sort_values(ascending=False).to_csv(\"./Data/readF_t_b.csv\")"
   ]
  },
  {
   "cell_type": "code",
   "execution_count": 62,
   "metadata": {},
   "outputs": [
    {
     "data": {
      "text/plain": [
       "4_i123_intr.s      0.072163\n",
       "1_i127_intr.s      0.060718\n",
       "2_i138_intr.s      0.038417\n",
       "0_iseg.s           0.038183\n",
       "4_passive.s        0.034993\n",
       "                     ...   \n",
       "3_cpu15_.soft      0.000000\n",
       "3_cpu14_.iowait    0.000000\n",
       "3_cpu13_.irq       0.000000\n",
       "0_pswpin.s         0.000000\n",
       "1_cpu13_.iowait    0.000000\n",
       "Length: 1723, dtype: float64"
      ]
     },
     "execution_count": 62,
     "metadata": {},
     "output_type": "execute_result"
    }
   ],
   "source": [
    "tbf.sort_values(ascending=False)"
   ]
  },
  {
   "cell_type": "code",
   "execution_count": 63,
   "metadata": {},
   "outputs": [
    {
     "name": "stderr",
     "output_type": "stream",
     "text": [
      "[Parallel(n_jobs=-1)]: Using backend ThreadingBackend with 8 concurrent workers.\n",
      "[Parallel(n_jobs=-1)]: Done  34 tasks      | elapsed:  1.0min\n"
     ]
    },
    {
     "name": "stdout",
     "output_type": "stream",
     "text": [
      "[0.00022204 0.00028544 0.00031626 ... 0.00072874 0.00053928 0.0053298 ]\n"
     ]
    },
    {
     "name": "stderr",
     "output_type": "stream",
     "text": [
      "[Parallel(n_jobs=-1)]: Done 100 out of 100 | elapsed:  2.6min finished\n"
     ]
    }
   ],
   "source": [
    "# peri\n",
    "\n",
    "rfp = RandomForestRegressor(n_estimators=100,verbose = 1 ,n_jobs = -1)\n",
    "rfp.fit(X_train_P,Y_train_P)\n",
    "print(rfp.feature_importances_)"
   ]
  },
  {
   "cell_type": "code",
   "execution_count": 64,
   "metadata": {},
   "outputs": [],
   "source": [
    "tbp = pd.Series(rfp.feature_importances_, index=X_train_P.columns)\n",
    "tbp.sort_values(ascending=False).to_csv(\"./Data/readP_t_b.csv\")"
   ]
  },
  {
   "cell_type": "code",
   "execution_count": 65,
   "metadata": {},
   "outputs": [
    {
     "data": {
      "text/plain": [
       "1_i127_intr.s      0.118276\n",
       "4_TxPacktes        0.078415\n",
       "15_TxBytes.1       0.061076\n",
       "15_TxBytes         0.046835\n",
       "4_RxPacktes.1      0.039861\n",
       "                     ...   \n",
       "1_cpu7_.iowait     0.000000\n",
       "5_cpu15_.iowait    0.000000\n",
       "0_cpu15_.iowait    0.000000\n",
       "2_cpu1_.soft       0.000000\n",
       "3_estres.s         0.000000\n",
       "Length: 1751, dtype: float64"
      ]
     },
     "execution_count": 65,
     "metadata": {},
     "output_type": "execute_result"
    }
   ],
   "source": [
    "tbp.sort_values(ascending=False)"
   ]
  },
  {
   "cell_type": "code",
   "execution_count": null,
   "metadata": {},
   "outputs": [],
   "source": []
  },
  {
   "cell_type": "markdown",
   "metadata": {},
   "source": [
    "### integrate list"
   ]
  },
  {
   "cell_type": "markdown",
   "metadata": {},
   "source": [
    "#### correration"
   ]
  },
  {
   "cell_type": "code",
   "execution_count": 134,
   "metadata": {},
   "outputs": [],
   "source": [
    "#  correration\n",
    "\n",
    "fpci = pd.read_csv('./Data/readF_p_c.csv')\n",
    "fpci = fpci.iloc[:,0].tolist()\n",
    "\n",
    "ppci = pd.read_csv('./Data/readP_p_c.csv')\n",
    "ppci = ppci.iloc[:,0].tolist()\n"
   ]
  },
  {
   "cell_type": "code",
   "execution_count": 135,
   "metadata": {},
   "outputs": [],
   "source": [
    "ipc_f = list(set(fpci).intersection(ppci))"
   ]
  },
  {
   "cell_type": "code",
   "execution_count": 136,
   "metadata": {},
   "outputs": [],
   "source": [
    "ipc_f.sort(key= lambda x: fpci.index(x)+ppci.index(x))"
   ]
  },
  {
   "cell_type": "code",
   "execution_count": 137,
   "metadata": {},
   "outputs": [
    {
     "data": {
      "text/plain": [
       "1713"
      ]
     },
     "execution_count": 137,
     "metadata": {},
     "output_type": "execute_result"
    }
   ],
   "source": [
    "len(ipc_f)"
   ]
  },
  {
   "cell_type": "code",
   "execution_count": 139,
   "metadata": {},
   "outputs": [],
   "source": [
    "ipX_train_pc=X_train_P[ipc_f]\n",
    "ipX_test_pc=X_test_P[ipc_f]\n",
    "\n",
    "\n",
    "ifX_train_pc=X_train_F[ipc_f]\n",
    "ifX_test_pc=X_test_F[ipc_f]\n"
   ]
  },
  {
   "cell_type": "code",
   "execution_count": 140,
   "metadata": {},
   "outputs": [
    {
     "name": "stdout",
     "output_type": "stream",
     "text": [
      "1\n",
      "2\n",
      "4\n",
      "8\n",
      "16\n",
      "32\n",
      "64\n",
      "128\n",
      "256\n",
      "512\n",
      "1024\n"
     ]
    }
   ],
   "source": [
    "ippc_nmae=[]\n",
    "ippc_time=[]\n",
    "RF_training_f(klist,ipX_train_pc,Y_train_P,ipX_test_pc,\n",
    "              Y_test_P,ippc_nmae,ippc_time)"
   ]
  },
  {
   "cell_type": "code",
   "execution_count": 142,
   "metadata": {},
   "outputs": [
    {
     "name": "stdout",
     "output_type": "stream",
     "text": [
      "1\n",
      "2\n",
      "4\n",
      "8\n",
      "16\n",
      "32\n",
      "64\n",
      "128\n",
      "256\n",
      "512\n",
      "1024\n"
     ]
    }
   ],
   "source": [
    "ifpc_nmae=[]\n",
    "ifpc_time=[]\n",
    "RF_training_f(klist,ifX_train_pc,Y_train_F,ifX_test_pc,\n",
    "              Y_test_F,ifpc_nmae,ifpc_time)"
   ]
  },
  {
   "cell_type": "markdown",
   "metadata": {},
   "source": [
    "#### tree based"
   ]
  },
  {
   "cell_type": "code",
   "execution_count": 156,
   "metadata": {},
   "outputs": [],
   "source": [
    "#  correration\n",
    "\n",
    "ftbi = pd.read_csv('./Data/readF_t_b.csv')\n",
    "ftbi = ftbi.iloc[:,0].tolist()\n",
    "\n",
    "ptbi = pd.read_csv('./Data/readP_t_b.csv')\n",
    "ptbi = ptbi.iloc[:,0].tolist()\n"
   ]
  },
  {
   "cell_type": "code",
   "execution_count": 157,
   "metadata": {},
   "outputs": [],
   "source": [
    "itb_f = list(set(fpci).intersection(ppci))\n",
    "itb_f.sort(key= lambda x: ftbi.index(x)+ptbi.index(x))"
   ]
  },
  {
   "cell_type": "code",
   "execution_count": 158,
   "metadata": {},
   "outputs": [
    {
     "data": {
      "text/plain": [
       "1713"
      ]
     },
     "execution_count": 158,
     "metadata": {},
     "output_type": "execute_result"
    }
   ],
   "source": [
    "len(itb_f)"
   ]
  },
  {
   "cell_type": "code",
   "execution_count": 159,
   "metadata": {},
   "outputs": [],
   "source": [
    "ipX_train_tb=X_train_P[itb_f]\n",
    "ipX_test_tb=X_test_P[itb_f]\n",
    "\n",
    "\n",
    "ifX_train_tb=X_train_F[itb_f]\n",
    "ifX_test_tb=X_test_F[itb_f]\n"
   ]
  },
  {
   "cell_type": "code",
   "execution_count": 160,
   "metadata": {},
   "outputs": [
    {
     "name": "stdout",
     "output_type": "stream",
     "text": [
      "1\n",
      "2\n",
      "4\n",
      "8\n",
      "16\n",
      "32\n",
      "64\n",
      "128\n",
      "256\n",
      "512\n",
      "1024\n"
     ]
    }
   ],
   "source": [
    "iptb_nmae=[]\n",
    "iptb_time=[]\n",
    "RF_training_f(klist,ipX_train_tb,Y_train_P,ipX_test_tb,\n",
    "              Y_test_P,iptb_nmae,iptb_time)"
   ]
  },
  {
   "cell_type": "code",
   "execution_count": 161,
   "metadata": {},
   "outputs": [
    {
     "name": "stdout",
     "output_type": "stream",
     "text": [
      "1\n",
      "2\n",
      "4\n",
      "8\n",
      "16\n",
      "32\n",
      "64\n",
      "128\n",
      "256\n",
      "512\n",
      "1024\n"
     ]
    }
   ],
   "source": [
    "iftb_nmae=[]\n",
    "iftb_time=[]\n",
    "RF_training_f(klist,ifX_train_tb,Y_train_F,ifX_test_tb,\n",
    "              Y_test_F,iftb_nmae,iftb_time)"
   ]
  },
  {
   "cell_type": "code",
   "execution_count": null,
   "metadata": {},
   "outputs": [],
   "source": []
  },
  {
   "cell_type": "code",
   "execution_count": null,
   "metadata": {},
   "outputs": [],
   "source": []
  },
  {
   "cell_type": "markdown",
   "metadata": {},
   "source": [
    "### random forest regression"
   ]
  },
  {
   "cell_type": "markdown",
   "metadata": {},
   "source": [
    "#### correration"
   ]
  },
  {
   "cell_type": "code",
   "execution_count": null,
   "metadata": {},
   "outputs": [],
   "source": [
    "# Flash - feature list from flash"
   ]
  },
  {
   "cell_type": "code",
   "execution_count": 72,
   "metadata": {},
   "outputs": [],
   "source": [
    "fpc = pd.read_csv('./Data/readF_p_c.csv')"
   ]
  },
  {
   "cell_type": "code",
   "execution_count": 73,
   "metadata": {},
   "outputs": [],
   "source": [
    "pc_f= fpc.iloc[:,0].tolist()"
   ]
  },
  {
   "cell_type": "code",
   "execution_count": 74,
   "metadata": {},
   "outputs": [],
   "source": [
    "X_train_F_pc=X_train_F[pc_f]\n",
    "X_test_F_pc=X_test_F[pc_f]"
   ]
  },
  {
   "cell_type": "code",
   "execution_count": 80,
   "metadata": {},
   "outputs": [],
   "source": [
    "Cpc = pd.read_csv('./Data/readC_p_c.csv')\n",
    "Cpc_f= Cpc.iloc[:,0].tolist()\n",
    "\n",
    "# flash - feature list from combined \n",
    "\n",
    "\n",
    "X_train_FC_pc=X_train_F[Cpc_f]\n",
    "X_test_FC_pc=X_test_F[Cpc_f]"
   ]
  },
  {
   "cell_type": "code",
   "execution_count": 82,
   "metadata": {},
   "outputs": [],
   "source": [
    "# peri - feature list from peri\n",
    "\n",
    "ppc = pd.read_csv('./Data/readP_p_c.csv')\n",
    "pc_p= ppc.iloc[:,0].tolist()\n",
    "\n",
    "X_train_P_pc=X_train_P[pc_p]\n",
    "X_test_P_pc=X_test_P[pc_p]"
   ]
  },
  {
   "cell_type": "code",
   "execution_count": 83,
   "metadata": {},
   "outputs": [],
   "source": [
    "# peri - feature list from combined \n",
    "\n",
    "X_train_PC_pc=X_train_P[Cpc_f]\n",
    "X_test_PC_pc=X_test_P[Cpc_f]"
   ]
  },
  {
   "cell_type": "code",
   "execution_count": 84,
   "metadata": {},
   "outputs": [],
   "source": [
    "def fit_RF_reg(X,Y,X_test,Y_test):\n",
    "    start_time = time.time()\n",
    "    \n",
    "    rfr = RandomForestRegressor(n_estimators = 10, n_jobs = -1, random_state = 10,verbose = 0)\n",
    "    rfr.fit(X, Y)\n",
    "    \n",
    "    end_time = time.time()\n",
    "    timec=end_time - start_time\n",
    "\n",
    "    NMAE=np.mean(np.abs(rfr.predict(X_test) - Y_test))/np.mean(Y_test)\n",
    "    #R_squared = model_k.score(X,Y)\n",
    "    return NMAE, timec\n",
    "\n",
    "klist=[1,2,4,8,16,32,64,128,256,512,1024]\n",
    "\n",
    "def RF_training_f(klist,X_train_f,Y_train_r,X_test_f,Y_test_r,nmae,training_t):\n",
    "    for k in klist:\n",
    "        print(k)\n",
    "        error,timec = fit_RF_reg(X_train_f.iloc[:,0:k],Y_train_r,X_test_f.iloc[:,0:k],Y_test_r)\n",
    "        nmae.append(error)\n",
    "        training_t.append(timec)"
   ]
  },
  {
   "cell_type": "code",
   "execution_count": null,
   "metadata": {},
   "outputs": [],
   "source": [
    "# X_train_F_pc        X_test_F_pc\n",
    "# X_train_FC_pc       X_test_FC_pc\n",
    "# X_train_P_pc        X_test_P_pc\n",
    "# X_train_PC_pc        X_test_PC_pc"
   ]
  },
  {
   "cell_type": "code",
   "execution_count": 87,
   "metadata": {},
   "outputs": [
    {
     "name": "stdout",
     "output_type": "stream",
     "text": [
      "1\n",
      "2\n",
      "4\n",
      "8\n",
      "16\n",
      "32\n",
      "64\n",
      "128\n",
      "256\n",
      "512\n",
      "1024\n"
     ]
    }
   ],
   "source": [
    "F_pc_nmae=[]\n",
    "F_pc_time=[]\n",
    "RF_training_f(klist,X_train_F_pc,Y_train_F,X_test_F_pc,Y_test_F,F_pc_nmae,F_pc_time)"
   ]
  },
  {
   "cell_type": "code",
   "execution_count": 88,
   "metadata": {},
   "outputs": [
    {
     "name": "stdout",
     "output_type": "stream",
     "text": [
      "1\n",
      "2\n",
      "4\n",
      "8\n",
      "16\n",
      "32\n",
      "64\n",
      "128\n",
      "256\n",
      "512\n",
      "1024\n"
     ]
    }
   ],
   "source": [
    "FC_pc_nmae=[]\n",
    "FC_pc_time=[]\n",
    "RF_training_f(klist,  X_train_FC_pc,Y_train_F,  X_test_FC_pc,Y_test_F,FC_pc_nmae,FC_pc_time)"
   ]
  },
  {
   "cell_type": "code",
   "execution_count": 89,
   "metadata": {},
   "outputs": [
    {
     "name": "stdout",
     "output_type": "stream",
     "text": [
      "1\n",
      "2\n",
      "4\n",
      "8\n",
      "16\n",
      "32\n",
      "64\n",
      "128\n",
      "256\n",
      "512\n",
      "1024\n"
     ]
    }
   ],
   "source": [
    "P_pc_nmae=[]\n",
    "P_pc_time=[]\n",
    "RF_training_f(klist, X_train_P_pc,Y_train_P,    X_test_P_pc,Y_test_P    ,P_pc_nmae,P_pc_time)"
   ]
  },
  {
   "cell_type": "code",
   "execution_count": 90,
   "metadata": {},
   "outputs": [
    {
     "name": "stdout",
     "output_type": "stream",
     "text": [
      "1\n",
      "2\n",
      "4\n",
      "8\n",
      "16\n",
      "32\n",
      "64\n",
      "128\n",
      "256\n",
      "512\n",
      "1024\n"
     ]
    }
   ],
   "source": [
    "PC_pc_nmae=[]\n",
    "PC_pc_time=[]\n",
    "RF_training_f(klist, X_train_PC_pc,Y_train_P,    X_test_PC_pc,Y_test_P    ,PC_pc_nmae,PC_pc_time)"
   ]
  },
  {
   "cell_type": "code",
   "execution_count": 171,
   "metadata": {},
   "outputs": [
    {
     "name": "stderr",
     "output_type": "stream",
     "text": [
      "/opt/conda/lib/python3.7/site-packages/ipykernel_launcher.py:28: MatplotlibDeprecationWarning: The 'basex' parameter of __init__() has been renamed 'base' since Matplotlib 3.3; support for the old name will be dropped two minor releases later.\n"
     ]
    },
    {
     "data": {
      "image/png": "[encoded data removed]",
      "text/plain": [
       "<Figure size 576x288 with 2 Axes>"
      ]
     },
     "metadata": {
      "needs_background": "light"
     },
     "output_type": "display_data"
    }
   ],
   "source": [
    "fig, axes = plt.subplots(nrows=1, ncols=1, figsize=(8, 4))\n",
    "ax = fig.add_axes([0, 0, 1, 1]) \n",
    "#my_xticks=list(range(1, 13))\n",
    "plt.plot(klist,P_pc_nmae,marker='o',label = 'Periodic', c ='orange')\n",
    "plt.plot(klist,PC_pc_nmae,marker='o',label = 'Periodic - Concatenated traces', c='#1f77b4')\n",
    "plt.plot(klist,ippc_nmae,marker='o',label = 'Periodic - Integrated list',  c = 'r')\n",
    "\n",
    "\n",
    "plt.plot(klist,F_pc_nmae,marker='x',label ='Flashcrowd' , c ='orange')\n",
    "plt.plot(klist,FC_pc_nmae,marker='x',label = 'Flashcrowd - Concatenated traces', c='#1f77b4')\n",
    "plt.plot(klist,ifpc_nmae,marker='x',label ='Flashcrowd - Integrated list' ,c = 'r')\n",
    "\n",
    "\n",
    "font_size=18\n",
    "plt.xlabel('Number of features(univariate)', fontsize=font_size)\n",
    "plt.ylabel('NMAE of ReadsAvg', fontsize=font_size-4)\n",
    "#plt.legend(('Univariate','Tree-based','ARR','PCA'), loc=1, shadow=False, fancybox=True, fontsize=font_size-4)\n",
    "plt.legend(loc=1, shadow=False, fancybox=True, fontsize=font_size-6)\n",
    "\n",
    "#  bbox_to_anchor=(1.01,1.0), borderaxespad = 0.,\n",
    "plt.tick_params(axis='both', which='major', labelsize=font_size-2)\n",
    "plt.tick_params(axis='both', which='minor', labelsize=font_size-4)\n",
    "\n",
    "x_major_locator=MultipleLocator(8)\n",
    "ax=plt.gca()\n",
    "#ax.xaxis.set_major_locator(x_major_locator)\n",
    "\n",
    "ax.set_xscale(\"log\",basex=2)\n",
    "ax.set_xticks([1,2,4,8,16,32,64,128,256,512,1024])\n",
    "ax.set_ylim(0.018,0.031)\n",
    "plt.grid()\n",
    "plt.savefig(\"./Fig/corr.png\",dpi=300,bbox_inches='tight')"
   ]
  },
  {
   "cell_type": "code",
   "execution_count": 95,
   "metadata": {},
   "outputs": [
    {
     "name": "stdout",
     "output_type": "stream",
     "text": [
      "[0.020277062947935267, 0.022411548069010554, 0.021462186504105214, 0.0202732589328317, 0.019991426770334598, 0.020089259222286146, 0.02007389899588217, 0.019825868427092594, 0.019234786154193478, 0.01914669993125033, 0.01915559791924279] [0.02064045027000908, 0.02229828975672332, 0.020416707156097953, 0.020562956320528826, 0.020500219537735013, 0.019982352399404626, 0.02031399009586142, 0.01957829009197728, 0.01979533622377406, 0.01927011381133581, 0.019292181311130124] [0.026763708389384123, 0.028415081298689228, 0.027903247129645984, 0.02527708881993441, 0.023908381418079674, 0.023474645887946233, 0.023517015072818847, 0.023070575142136944, 0.02268476104264498, 0.022233565943313296, 0.02243413148562209] [0.02676370838938411, 0.02942377949723019, 0.024612949908933344, 0.02441677336731104, 0.024028158132226297, 0.02365350574315446, 0.023343638611635197, 0.023058706046840245, 0.022540116517137, 0.02204403953476697, 0.02218205168478315]\n"
     ]
    }
   ],
   "source": [
    "print(F_pc_nmae,FC_pc_nmae,P_pc_nmae,PC_pc_nmae)"
   ]
  },
  {
   "cell_type": "code",
   "execution_count": 151,
   "metadata": {},
   "outputs": [
    {
     "name": "stdout",
     "output_type": "stream",
     "text": [
      "[0.020640450270009082, 0.022491881652634698, 0.02148107354061064, 0.02069582088413735, 0.020216993210702746, 0.01980818801020005, 0.019811264429330358, 0.020157842549616983, 0.01966635034518895, 0.019158373884732637, 0.019215314447110353] [0.02676370838938413, 0.028415081298689235, 0.027114985642292273, 0.026517897057086858, 0.025138992937976126, 0.02331264069311882, 0.023196650989332844, 0.02284299562821392, 0.02276803638475735, 0.02250644760310101, 0.022306187721431475]\n"
     ]
    }
   ],
   "source": [
    "print(ifpc_nmae,ippc_nmae)"
   ]
  },
  {
   "cell_type": "markdown",
   "metadata": {},
   "source": [
    "#### tree based"
   ]
  },
  {
   "cell_type": "code",
   "execution_count": 97,
   "metadata": {},
   "outputs": [],
   "source": [
    "# Flash - feature list from flash\n",
    "ftb = pd.read_csv('./Data/readF_t_b.csv')\n",
    "ftb = ftb.iloc[:,0].tolist()"
   ]
  },
  {
   "cell_type": "code",
   "execution_count": 98,
   "metadata": {},
   "outputs": [],
   "source": [
    "X_train_F_tb=X_train_F[ftb]\n",
    "X_test_F_tb=X_test_F[ftb]"
   ]
  },
  {
   "cell_type": "code",
   "execution_count": 100,
   "metadata": {},
   "outputs": [],
   "source": [
    "Ctb = pd.read_csv('./Data/readC_t_b.csv')\n",
    "Ctb = Ctb.iloc[:,0].tolist()\n",
    "\n",
    "# # flash - feature list from combined \n",
    "\n",
    "\n",
    "X_train_FC_tb=X_train_F[Ctb]\n",
    "X_test_FC_tb=X_test_F[Ctb]"
   ]
  },
  {
   "cell_type": "code",
   "execution_count": 102,
   "metadata": {},
   "outputs": [],
   "source": [
    "# peri - feature list from peri\n",
    "\n",
    "ptb = pd.read_csv('./Data/readP_t_b.csv')\n",
    "ptb= ptb.iloc[:,0].tolist()\n",
    "\n",
    "X_train_P_tb=X_train_P[ptb ]\n",
    "X_test_P_tb=X_test_P[ptb ]"
   ]
  },
  {
   "cell_type": "code",
   "execution_count": 103,
   "metadata": {},
   "outputs": [],
   "source": [
    "# peri - feature list from combined \n",
    "\n",
    "X_train_PC_tb=X_train_P[Ctb]\n",
    "X_test_PC_tb=X_test_P[Ctb]"
   ]
  },
  {
   "cell_type": "code",
   "execution_count": null,
   "metadata": {},
   "outputs": [],
   "source": [
    "# X_train_F_tb        X_test_F_tb\n",
    "# X_train_FC_tb       X_test_FC_tb\n",
    "# X_train_P_tb        X_test_P_tb\n",
    "# X_train_PC_tb        X_test_PC_tb"
   ]
  },
  {
   "cell_type": "code",
   "execution_count": 104,
   "metadata": {},
   "outputs": [
    {
     "name": "stdout",
     "output_type": "stream",
     "text": [
      "1\n",
      "2\n",
      "4\n",
      "8\n",
      "16\n",
      "32\n",
      "64\n",
      "128\n",
      "256\n",
      "512\n",
      "1024\n"
     ]
    }
   ],
   "source": [
    "F_tb_nmae=[]\n",
    "F_tb_time=[]\n",
    "RF_training_f(klist,X_train_F_tb,Y_train_F,X_test_F_tb,Y_test_F,F_tb_nmae,F_tb_time)"
   ]
  },
  {
   "cell_type": "code",
   "execution_count": 105,
   "metadata": {},
   "outputs": [
    {
     "name": "stdout",
     "output_type": "stream",
     "text": [
      "1\n",
      "2\n",
      "4\n",
      "8\n",
      "16\n",
      "32\n",
      "64\n",
      "128\n",
      "256\n",
      "512\n",
      "1024\n"
     ]
    }
   ],
   "source": [
    "FC_tb_nmae=[]\n",
    "FC_tb_time=[]\n",
    "RF_training_f(klist,  X_train_FC_tb,Y_train_F,  X_test_FC_tb,Y_test_F,   FC_tb_nmae,FC_tb_time)"
   ]
  },
  {
   "cell_type": "code",
   "execution_count": 106,
   "metadata": {},
   "outputs": [
    {
     "name": "stdout",
     "output_type": "stream",
     "text": [
      "1\n",
      "2\n",
      "4\n",
      "8\n",
      "16\n",
      "32\n",
      "64\n",
      "128\n",
      "256\n",
      "512\n",
      "1024\n"
     ]
    }
   ],
   "source": [
    "P_tb_nmae=[]\n",
    "P_tb_time=[]\n",
    "RF_training_f(klist, X_train_P_tb,Y_train_P,    X_test_P_tb,Y_test_P    ,P_tb_nmae,P_tb_time)"
   ]
  },
  {
   "cell_type": "code",
   "execution_count": 107,
   "metadata": {},
   "outputs": [
    {
     "name": "stdout",
     "output_type": "stream",
     "text": [
      "1\n",
      "2\n",
      "4\n",
      "8\n",
      "16\n",
      "32\n",
      "64\n",
      "128\n",
      "256\n",
      "512\n",
      "1024\n"
     ]
    }
   ],
   "source": [
    "PC_tb_nmae=[]\n",
    "PC_tb_time=[]\n",
    "RF_training_f(klist, X_train_PC_tb,Y_train_P,    X_test_PC_tb,Y_test_P    ,PC_tb_nmae,PC_tb_time)"
   ]
  },
  {
   "cell_type": "code",
   "execution_count": 170,
   "metadata": {},
   "outputs": [
    {
     "name": "stderr",
     "output_type": "stream",
     "text": [
      "/opt/conda/lib/python3.7/site-packages/ipykernel_launcher.py:26: MatplotlibDeprecationWarning: The 'basex' parameter of __init__() has been renamed 'base' since Matplotlib 3.3; support for the old name will be dropped two minor releases later.\n"
     ]
    },
    {
     "data": {
      "image/png": "[encoded data removed]",
      "text/plain": [
       "<Figure size 576x288 with 2 Axes>"
      ]
     },
     "metadata": {
      "needs_background": "light"
     },
     "output_type": "display_data"
    }
   ],
   "source": [
    "fig, axes = plt.subplots(nrows=1, ncols=1, figsize=(8, 4))\n",
    "ax = fig.add_axes([0, 0, 1, 1]) \n",
    "#my_xticks=list(range(1, 13))\n",
    "plt.plot(klist,P_tb_nmae,marker='o',label = 'Periodic',c = 'orange')\n",
    "plt.plot(klist,PC_tb_nmae,marker='o',label = 'Periodic - Concatenated traces',c='#1f77b4')\n",
    "plt.plot(klist,iptb_nmae,marker='o',label = 'Periodic - Integrated list',  c = 'r')\n",
    "\n",
    "plt.plot(klist,F_tb_nmae,marker='x',label ='Flashcrowd' , c ='orange')\n",
    "plt.plot(klist,FC_tb_nmae,marker='x',label = 'Flashcrowd - Concatenated traces', c='#1f77b4')\n",
    "plt.plot(klist,iftb_nmae,marker='x',label ='Flashcrowd - Integrated list' ,c = 'r')\n",
    "\n",
    "font_size=18\n",
    "plt.xlabel('Number of features(tree based)', fontsize=font_size)\n",
    "plt.ylabel('NMAE of ReadsAvg', fontsize=font_size-4)\n",
    "#plt.legend(('Univariate','Tree-based','ARR','PCA'), loc=1, shadow=False, fancybox=True, fontsize=font_size-4)\n",
    "plt.legend(loc=1, shadow=False, fancybox=True, fontsize=font_size-6)\n",
    "\n",
    "#  bbox_to_anchor=(1.01,1.0), borderaxespad = 0.,\n",
    "plt.tick_params(axis='both', which='major', labelsize=font_size-2)\n",
    "plt.tick_params(axis='both', which='minor', labelsize=font_size-4)\n",
    "\n",
    "x_major_locator=MultipleLocator(8)\n",
    "ax=plt.gca()\n",
    "#ax.xaxis.set_major_locator(x_major_locator)\n",
    "\n",
    "ax.set_xscale(\"log\",basex=2)\n",
    "ax.set_xticks([1,2,4,8,16,32,64,128,256,512,1024])\n",
    "ax.set_ylim(0.018,0.031)\n",
    "plt.grid()\n",
    "plt.savefig(\"./Fig/treebased.png\",dpi=300,bbox_inches='tight')"
   ]
  },
  {
   "cell_type": "code",
   "execution_count": 113,
   "metadata": {},
   "outputs": [
    {
     "name": "stdout",
     "output_type": "stream",
     "text": [
      "[0.02032328340227826, 0.021619507779640706, 0.020940280055683793, 0.020542574181756944, 0.019970567857113368, 0.020263123157850293, 0.019858828116895835, 0.01929240292364789, 0.019295068424585844, 0.019158668746804164, 0.018807187690312033] [0.023425161865765227, 0.024440347953139596, 0.02298337493770267, 0.02074552055105727, 0.020063813607150174, 0.01992290209234961, 0.019544246818232188, 0.01992585083732126, 0.019790787109628557, 0.019354332346007908, 0.019292231386736844] [0.026763708389384116, 0.02593753214414284, 0.024718152332471835, 0.024393955899237672, 0.02325940325012635, 0.023140194203197146, 0.022997079255157, 0.022426658173422438, 0.02244040805174139, 0.02212859535490206, 0.022437746346069147] [0.030606801662250452, 0.02900098125567222, 0.026704431929276393, 0.023947351587585455, 0.023655832192213753, 0.02327801011546559, 0.02318386421332421, 0.022561961798580187, 0.022524607445921073, 0.023080756938089506, 0.022293967215052796]\n"
     ]
    }
   ],
   "source": [
    "print(F_tb_nmae,FC_tb_nmae,P_tb_nmae,PC_tb_nmae)"
   ]
  },
  {
   "cell_type": "code",
   "execution_count": 164,
   "metadata": {},
   "outputs": [
    {
     "name": "stdout",
     "output_type": "stream",
     "text": [
      "[0.02064045027000908, 0.022432203987167, 0.020545795646186873, 0.020520338375735945, 0.01956689248626023, 0.019346242339734542, 0.0194050171852556, 0.019202473036151246, 0.01906107126500724, 0.01910956234535412, 0.019013853012148356] [0.02676370838938411, 0.02900041395290738, 0.027072183462158936, 0.025573392157819386, 0.023608596319418355, 0.023067911463399805, 0.022784683256739238, 0.022358344746962376, 0.02258445486189748, 0.02237270902947385, 0.022379928227355027]\n"
     ]
    }
   ],
   "source": [
    "print(iftb_nmae,iptb_nmae)"
   ]
  },
  {
   "cell_type": "code",
   "execution_count": null,
   "metadata": {},
   "outputs": [],
   "source": []
  },
  {
   "cell_type": "code",
   "execution_count": null,
   "metadata": {},
   "outputs": [],
   "source": []
  },
  {
   "cell_type": "code",
   "execution_count": null,
   "metadata": {},
   "outputs": [],
   "source": []
  },
  {
   "cell_type": "code",
   "execution_count": null,
   "metadata": {},
   "outputs": [],
   "source": []
  },
  {
   "cell_type": "code",
   "execution_count": null,
   "metadata": {},
   "outputs": [],
   "source": []
  },
  {
   "cell_type": "code",
   "execution_count": null,
   "metadata": {},
   "outputs": [],
   "source": []
  },
  {
   "cell_type": "code",
   "execution_count": null,
   "metadata": {},
   "outputs": [],
   "source": []
  },
  {
   "cell_type": "code",
   "execution_count": null,
   "metadata": {},
   "outputs": [],
   "source": []
  },
  {
   "cell_type": "code",
   "execution_count": 80,
   "metadata": {},
   "outputs": [],
   "source": [
    "#  Pearson correlation\n",
    "pc = pd.read_csv('./Data/readC_p_c.csv')\n",
    "pc_f= pc.iloc[:,0].tolist()\n",
    "\n",
    "X_train_pc=X_train[pc_f]\n",
    "X_test_pc=X_test[pc_f]\n",
    "\n",
    "pc_nmae=[]\n",
    "pc_time=[]\n",
    "\n",
    "# tree based\n",
    "tb = pd.read_csv('./Data/readC_t_b_new.csv')\n",
    "tb_f=tb.iloc[0:,0].tolist()\n",
    "X_train_tb=X_train[tb_f]\n",
    "X_test_tb=X_test[tb_f]\n",
    "tb_nmae=[]\n",
    "tb_time=[]"
   ]
  },
  {
   "cell_type": "code",
   "execution_count": 32,
   "metadata": {},
   "outputs": [
    {
     "data": {
      "text/plain": [
       "0        1_i127_intr.s\n",
       "1        4_i124_intr.s\n",
       "2        0_i127_intr.s\n",
       "3         17_TxPacktes\n",
       "4       17_TxPacktes.1\n",
       "             ...      \n",
       "1708      3_all_..idle\n",
       "1709      1_cpu0_.idle\n",
       "1710      1_all_..idle\n",
       "1711     3_cpu15_.idle\n",
       "1712     3_cpu13_.idle\n",
       "Name: Unnamed: 0, Length: 1713, dtype: object"
      ]
     },
     "execution_count": 32,
     "metadata": {},
     "output_type": "execute_result"
    }
   ],
   "source": []
  },
  {
   "cell_type": "code",
   "execution_count": 83,
   "metadata": {},
   "outputs": [],
   "source": [
    "def fit_RF_reg(X,Y,X_test,Y_test):\n",
    "    start_time = time.time()\n",
    "    \n",
    "    rfr = RandomForestRegressor(n_estimators = 10, n_jobs = -1, random_state = 10,verbose = 0)\n",
    "    rfr.fit(X, Y)\n",
    "    \n",
    "    end_time = time.time()\n",
    "    timec=end_time - start_time\n",
    "\n",
    "    NMAE=np.mean(np.abs(rfr.predict(X_test) - Y_test))/np.mean(Y_test)\n",
    "    #R_squared = model_k.score(X,Y)\n",
    "    return NMAE, timec"
   ]
  },
  {
   "cell_type": "code",
   "execution_count": 84,
   "metadata": {},
   "outputs": [],
   "source": [
    "klist=[1,2,4,8,16,32,64,128,256,512,1024]\n",
    "\n",
    "def RF_training_f(klist,X_train_f,Y_train_r,X_test_f,Y_test_r,nmae,training_t):\n",
    "    for k in klist:\n",
    "        print(k)\n",
    "        error,timec = fit_RF_reg(X_train_f.iloc[:,0:k],Y_train_r,X_test_f.iloc[:,0:k],Y_test_r)\n",
    "        nmae.append(error)\n",
    "        training_t.append(timec)"
   ]
  },
  {
   "cell_type": "code",
   "execution_count": 87,
   "metadata": {},
   "outputs": [
    {
     "name": "stdout",
     "output_type": "stream",
     "text": [
      "1\n",
      "2\n",
      "4\n",
      "8\n",
      "16\n",
      "32\n",
      "64\n",
      "128\n",
      "256\n",
      "512\n",
      "1024\n"
     ]
    }
   ],
   "source": [
    "r_pc_nmae=[]\n",
    "r_pc_time=[]\n",
    "RF_training_f(klist,X_train_pc,Y_train,X_test_pc,Y_test,r_pc_nmae,r_pc_time)"
   ]
  },
  {
   "cell_type": "code",
   "execution_count": 77,
   "metadata": {},
   "outputs": [
    {
     "name": "stdout",
     "output_type": "stream",
     "text": [
      "1\n",
      "2\n",
      "4\n",
      "8\n",
      "16\n",
      "32\n",
      "64\n",
      "128\n",
      "256\n",
      "512\n",
      "1024\n"
     ]
    }
   ],
   "source": [
    "r_tb_nmae=[]\n",
    "r_tb_time=[]\n",
    "RF_training_f(klist,X_train_tb,Y_train,X_test_tb,Y_test, r_tb_nmae,r_tb_time)"
   ]
  },
  {
   "cell_type": "code",
   "execution_count": 88,
   "metadata": {},
   "outputs": [
    {
     "name": "stderr",
     "output_type": "stream",
     "text": [
      "/opt/conda/lib/python3.7/site-packages/ipykernel_launcher.py:24: MatplotlibDeprecationWarning: The 'basex' parameter of __init__() has been renamed 'base' since Matplotlib 3.3; support for the old name will be dropped two minor releases later.\n"
     ]
    },
    {
     "data": {
      "image/png": "[encoded data removed]",
      "text/plain": [
       "<Figure size 576x288 with 2 Axes>"
      ]
     },
     "metadata": {
      "needs_background": "light"
     },
     "output_type": "display_data"
    }
   ],
   "source": [
    "fig, axes = plt.subplots(nrows=1, ncols=1, figsize=(8, 4))\n",
    "ax = fig.add_axes([0, 0, 1, 1]) \n",
    "#my_xticks=list(range(1, 13))\n",
    "plt.plot(klist,r_pc_nmae,marker='o',label = 'concat-correlation')\n",
    "plt.plot(klist,r_tb_nmae,marker='o',label = 'concat-tree based')\n",
    "#plt.plot(klist,r_arr_nmae,marker='o')\n",
    "#plt.plot(klist,r_pca_nmae,marker='o')\n",
    "\n",
    "\n",
    "font_size=18\n",
    "plt.xlabel('Number of features', fontsize=font_size)\n",
    "plt.ylabel('NMAE of ReadsAvg', fontsize=font_size-4)\n",
    "#plt.legend(('Univariate','Tree-based','ARR','PCA'), loc=1, shadow=False, fancybox=True, fontsize=font_size-4)\n",
    "plt.legend(loc=1, shadow=False, fancybox=True, fontsize=font_size-4)\n",
    "\n",
    "#  bbox_to_anchor=(1.01,1.0), borderaxespad = 0.,\n",
    "plt.tick_params(axis='both', which='major', labelsize=font_size-2)\n",
    "plt.tick_params(axis='both', which='minor', labelsize=font_size-4)\n",
    "\n",
    "x_major_locator=MultipleLocator(8)\n",
    "ax=plt.gca()\n",
    "#ax.xaxis.set_major_locator(x_major_locator)\n",
    "\n",
    "ax.set_xscale(\"log\",basex=2)\n",
    "ax.set_xticks([1,2,4,8,16,32,64,128,256,512,1024])\n",
    "#ax.set_ylim(0.021, 0.035)\n",
    "plt.grid()\n",
    "#plt.savefig(\"./Fig/flash_NMAE.png\",dpi=300,bbox_inches='tight')"
   ]
  },
  {
   "cell_type": "code",
   "execution_count": 93,
   "metadata": {},
   "outputs": [
    {
     "name": "stdout",
     "output_type": "stream",
     "text": [
      "[0.025520552301454693, 0.024854941478627646, 0.02356434096796268, 0.02303352025190916, 0.022862586901272602, 0.022640101745729387, 0.02235641818909567, 0.021782497725780354, 0.0214740459257756, 0.021093638610406088, 0.02110544366004423] [0.034032458680863596, 0.033418457523091014, 0.0339423534268679, 0.03504849561183565, 0.03397728524029291, 0.03335185524677846, 0.03271091103504483, 0.02783304627846963, 0.022212328474266883, 0.021886874596480435, 0.021822693806126274]\n"
     ]
    }
   ],
   "source": [
    "print(r_pc_nmae,r_tb_nmae,)"
   ]
  },
  {
   "cell_type": "code",
   "execution_count": null,
   "metadata": {},
   "outputs": [],
   "source": []
  },
  {
   "cell_type": "code",
   "execution_count": null,
   "metadata": {},
   "outputs": [],
   "source": []
  },
  {
   "cell_type": "code",
   "execution_count": null,
   "metadata": {},
   "outputs": [],
   "source": []
  },
  {
   "cell_type": "code",
   "execution_count": null,
   "metadata": {},
   "outputs": [],
   "source": []
  },
  {
   "cell_type": "code",
   "execution_count": 90,
   "metadata": {},
   "outputs": [
    {
     "ename": "ValueError",
     "evalue": "x and y must have the same length.",
     "output_type": "error",
     "traceback": [
      "\u001b[0;31m---------------------------------------------------------------------------\u001b[0m",
      "\u001b[0;31mValueError\u001b[0m                                Traceback (most recent call last)",
      "\u001b[0;32m<ipython-input-90-c954e44adb6d>\u001b[0m in \u001b[0;36m<module>\u001b[0;34m\u001b[0m\n\u001b[0;32m----> 1\u001b[0;31m \u001b[0mpearsonr\u001b[0m\u001b[0;34m(\u001b[0m\u001b[0;34m[\u001b[0m\u001b[0;34m[\u001b[0m\u001b[0;36m1\u001b[0m\u001b[0;34m,\u001b[0m\u001b[0;36m2\u001b[0m\u001b[0;34m,\u001b[0m\u001b[0;36m3\u001b[0m\u001b[0;34m,\u001b[0m\u001b[0;36m4\u001b[0m\u001b[0;34m,\u001b[0m\u001b[0;36m6\u001b[0m\u001b[0;34m,\u001b[0m\u001b[0;36m7\u001b[0m\u001b[0;34m,\u001b[0m\u001b[0;36m4\u001b[0m\u001b[0;34m,\u001b[0m\u001b[0;36m4\u001b[0m\u001b[0;34m,\u001b[0m\u001b[0;36m32\u001b[0m\u001b[0;34m,\u001b[0m\u001b[0;36m2\u001b[0m\u001b[0;34m]\u001b[0m\u001b[0;34m,\u001b[0m\u001b[0;34m[\u001b[0m\u001b[0;36m1\u001b[0m\u001b[0;34m,\u001b[0m\u001b[0;36m2\u001b[0m\u001b[0;34m,\u001b[0m\u001b[0;36m3\u001b[0m\u001b[0;34m,\u001b[0m\u001b[0;36m4\u001b[0m\u001b[0;34m,\u001b[0m\u001b[0;36m6\u001b[0m\u001b[0;34m,\u001b[0m\u001b[0;36m7\u001b[0m\u001b[0;34m,\u001b[0m\u001b[0;36m4\u001b[0m\u001b[0;34m,\u001b[0m\u001b[0;36m4\u001b[0m\u001b[0;34m,\u001b[0m\u001b[0;36m32\u001b[0m\u001b[0;34m,\u001b[0m\u001b[0;36m2\u001b[0m\u001b[0;34m]\u001b[0m\u001b[0;34m]\u001b[0m\u001b[0;34m,\u001b[0m \u001b[0;34m[\u001b[0m\u001b[0;36m3\u001b[0m\u001b[0;34m,\u001b[0m\u001b[0;36m5\u001b[0m\u001b[0;34m,\u001b[0m\u001b[0;36m3\u001b[0m\u001b[0;34m,\u001b[0m\u001b[0;36m2\u001b[0m\u001b[0;34m,\u001b[0m\u001b[0;36m7\u001b[0m\u001b[0;34m,\u001b[0m\u001b[0;36m7\u001b[0m\u001b[0;34m,\u001b[0m\u001b[0;36m1\u001b[0m\u001b[0;34m,\u001b[0m\u001b[0;36m4\u001b[0m\u001b[0;34m,\u001b[0m\u001b[0;36m6\u001b[0m\u001b[0;34m,\u001b[0m\u001b[0;36m7\u001b[0m\u001b[0;34m]\u001b[0m\u001b[0;34m)\u001b[0m\u001b[0;34m\u001b[0m\u001b[0;34m\u001b[0m\u001b[0m\n\u001b[0m",
      "\u001b[0;32m/opt/conda/lib/python3.7/site-packages/scipy/stats/stats.py\u001b[0m in \u001b[0;36mpearsonr\u001b[0;34m(x, y)\u001b[0m\n\u001b[1;32m   3833\u001b[0m     \u001b[0mn\u001b[0m \u001b[0;34m=\u001b[0m \u001b[0mlen\u001b[0m\u001b[0;34m(\u001b[0m\u001b[0mx\u001b[0m\u001b[0;34m)\u001b[0m\u001b[0;34m\u001b[0m\u001b[0;34m\u001b[0m\u001b[0m\n\u001b[1;32m   3834\u001b[0m     \u001b[0;32mif\u001b[0m \u001b[0mn\u001b[0m \u001b[0;34m!=\u001b[0m \u001b[0mlen\u001b[0m\u001b[0;34m(\u001b[0m\u001b[0my\u001b[0m\u001b[0;34m)\u001b[0m\u001b[0;34m:\u001b[0m\u001b[0;34m\u001b[0m\u001b[0;34m\u001b[0m\u001b[0m\n\u001b[0;32m-> 3835\u001b[0;31m         \u001b[0;32mraise\u001b[0m \u001b[0mValueError\u001b[0m\u001b[0;34m(\u001b[0m\u001b[0;34m'x and y must have the same length.'\u001b[0m\u001b[0;34m)\u001b[0m\u001b[0;34m\u001b[0m\u001b[0;34m\u001b[0m\u001b[0m\n\u001b[0m\u001b[1;32m   3836\u001b[0m \u001b[0;34m\u001b[0m\u001b[0m\n\u001b[1;32m   3837\u001b[0m     \u001b[0;32mif\u001b[0m \u001b[0mn\u001b[0m \u001b[0;34m<\u001b[0m \u001b[0;36m2\u001b[0m\u001b[0;34m:\u001b[0m\u001b[0;34m\u001b[0m\u001b[0;34m\u001b[0m\u001b[0m\n",
      "\u001b[0;31mValueError\u001b[0m: x and y must have the same length."
     ]
    }
   ],
   "source": [
    "pearsonr([[1,2,3,4,6,7,4,4,32,2],[1,2,3,4,6,7,4,4,32,2]], [3,5,3,2,7,7,1,4,6,7])"
   ]
  },
  {
   "cell_type": "code",
   "execution_count": null,
   "metadata": {},
   "outputs": [],
   "source": []
  },
  {
   "cell_type": "code",
   "execution_count": null,
   "metadata": {},
   "outputs": [],
   "source": []
  },
  {
   "cell_type": "code",
   "execution_count": null,
   "metadata": {},
   "outputs": [],
   "source": []
  },
  {
   "cell_type": "code",
   "execution_count": null,
   "metadata": {},
   "outputs": [],
   "source": []
  },
  {
   "cell_type": "code",
   "execution_count": null,
   "metadata": {},
   "outputs": [],
   "source": []
  },
  {
   "cell_type": "code",
   "execution_count": null,
   "metadata": {},
   "outputs": [],
   "source": []
  },
  {
   "cell_type": "code",
   "execution_count": null,
   "metadata": {},
   "outputs": [],
   "source": []
  },
  {
   "cell_type": "code",
   "execution_count": 7,
   "metadata": {
    "scrolled": true
   },
   "outputs": [
    {
     "data": {
      "text/html": [
       "<div>\n",
       "<style scoped>\n",
       "    .dataframe tbody tr th:only-of-type {\n",
       "        vertical-align: middle;\n",
       "    }\n",
       "\n",
       "    .dataframe tbody tr th {\n",
       "        vertical-align: top;\n",
       "    }\n",
       "\n",
       "    .dataframe thead th {\n",
       "        text-align: right;\n",
       "    }\n",
       "</style>\n",
       "<table border=\"1\" class=\"dataframe\">\n",
       "  <thead>\n",
       "    <tr style=\"text-align: right;\">\n",
       "      <th></th>\n",
       "      <th>Unnamed: 0</th>\n",
       "      <th>TimeStamp</th>\n",
       "      <th>0_all_..usr</th>\n",
       "      <th>0_all_..sys</th>\n",
       "      <th>0_all_..iowait</th>\n",
       "      <th>0_all_..soft</th>\n",
       "      <th>0_all_..idle</th>\n",
       "      <th>0_cpu0_.usr</th>\n",
       "      <th>0_cpu0_.sys</th>\n",
       "      <th>0_cpu0_.iowait</th>\n",
       "      <th>...</th>\n",
       "      <th>40_RxPacktes.1</th>\n",
       "      <th>40_TxPacktes.1</th>\n",
       "      <th>40_RxBytes.1</th>\n",
       "      <th>40_TxBytes.1</th>\n",
       "      <th>41_RxPacktes.1</th>\n",
       "      <th>41_TxPacktes.1</th>\n",
       "      <th>41_RxBytes.1</th>\n",
       "      <th>41_TxBytes.1</th>\n",
       "      <th>ReadsAvg</th>\n",
       "      <th>WritesAvg</th>\n",
       "    </tr>\n",
       "  </thead>\n",
       "  <tbody>\n",
       "    <tr>\n",
       "      <th>0</th>\n",
       "      <td>1</td>\n",
       "      <td>2016-11-22 08:52:37</td>\n",
       "      <td>0.84</td>\n",
       "      <td>0.29</td>\n",
       "      <td>0.17</td>\n",
       "      <td>0.00</td>\n",
       "      <td>98.70</td>\n",
       "      <td>6.00</td>\n",
       "      <td>0.00</td>\n",
       "      <td>0.0</td>\n",
       "      <td>...</td>\n",
       "      <td>897</td>\n",
       "      <td>1224</td>\n",
       "      <td>495878</td>\n",
       "      <td>603664</td>\n",
       "      <td>1224</td>\n",
       "      <td>898</td>\n",
       "      <td>405288</td>\n",
       "      <td>668193</td>\n",
       "      <td>59.3928</td>\n",
       "      <td>113.4178</td>\n",
       "    </tr>\n",
       "    <tr>\n",
       "      <th>1</th>\n",
       "      <td>2</td>\n",
       "      <td>2016-11-22 08:52:38</td>\n",
       "      <td>1.29</td>\n",
       "      <td>0.50</td>\n",
       "      <td>0.21</td>\n",
       "      <td>0.00</td>\n",
       "      <td>97.99</td>\n",
       "      <td>7.00</td>\n",
       "      <td>2.00</td>\n",
       "      <td>1.0</td>\n",
       "      <td>...</td>\n",
       "      <td>891</td>\n",
       "      <td>1236</td>\n",
       "      <td>488287</td>\n",
       "      <td>577703</td>\n",
       "      <td>1259</td>\n",
       "      <td>895</td>\n",
       "      <td>411853</td>\n",
       "      <td>665647</td>\n",
       "      <td>58.3325</td>\n",
       "      <td>109.1802</td>\n",
       "    </tr>\n",
       "    <tr>\n",
       "      <th>2</th>\n",
       "      <td>7</td>\n",
       "      <td>2016-11-22 08:52:46</td>\n",
       "      <td>1.08</td>\n",
       "      <td>0.58</td>\n",
       "      <td>0.13</td>\n",
       "      <td>0.04</td>\n",
       "      <td>98.17</td>\n",
       "      <td>2.00</td>\n",
       "      <td>2.00</td>\n",
       "      <td>0.0</td>\n",
       "      <td>...</td>\n",
       "      <td>922</td>\n",
       "      <td>1218</td>\n",
       "      <td>503116</td>\n",
       "      <td>642206</td>\n",
       "      <td>1220</td>\n",
       "      <td>922</td>\n",
       "      <td>417946</td>\n",
       "      <td>751137</td>\n",
       "      <td>58.8779</td>\n",
       "      <td>114.7778</td>\n",
       "    </tr>\n",
       "    <tr>\n",
       "      <th>3</th>\n",
       "      <td>15</td>\n",
       "      <td>2016-11-22 08:52:55</td>\n",
       "      <td>0.71</td>\n",
       "      <td>0.29</td>\n",
       "      <td>0.17</td>\n",
       "      <td>0.04</td>\n",
       "      <td>98.79</td>\n",
       "      <td>3.00</td>\n",
       "      <td>2.00</td>\n",
       "      <td>1.0</td>\n",
       "      <td>...</td>\n",
       "      <td>914</td>\n",
       "      <td>1284</td>\n",
       "      <td>492803</td>\n",
       "      <td>601726</td>\n",
       "      <td>1278</td>\n",
       "      <td>914</td>\n",
       "      <td>415035</td>\n",
       "      <td>636155</td>\n",
       "      <td>57.3831</td>\n",
       "      <td>107.6095</td>\n",
       "    </tr>\n",
       "    <tr>\n",
       "      <th>4</th>\n",
       "      <td>16</td>\n",
       "      <td>2016-11-22 08:52:56</td>\n",
       "      <td>0.84</td>\n",
       "      <td>0.21</td>\n",
       "      <td>0.04</td>\n",
       "      <td>0.04</td>\n",
       "      <td>98.87</td>\n",
       "      <td>4.00</td>\n",
       "      <td>2.00</td>\n",
       "      <td>1.0</td>\n",
       "      <td>...</td>\n",
       "      <td>863</td>\n",
       "      <td>1216</td>\n",
       "      <td>498189</td>\n",
       "      <td>533934</td>\n",
       "      <td>1216</td>\n",
       "      <td>864</td>\n",
       "      <td>381893</td>\n",
       "      <td>640162</td>\n",
       "      <td>52.5361</td>\n",
       "      <td>106.5753</td>\n",
       "    </tr>\n",
       "    <tr>\n",
       "      <th>...</th>\n",
       "      <td>...</td>\n",
       "      <td>...</td>\n",
       "      <td>...</td>\n",
       "      <td>...</td>\n",
       "      <td>...</td>\n",
       "      <td>...</td>\n",
       "      <td>...</td>\n",
       "      <td>...</td>\n",
       "      <td>...</td>\n",
       "      <td>...</td>\n",
       "      <td>...</td>\n",
       "      <td>...</td>\n",
       "      <td>...</td>\n",
       "      <td>...</td>\n",
       "      <td>...</td>\n",
       "      <td>...</td>\n",
       "      <td>...</td>\n",
       "      <td>...</td>\n",
       "      <td>...</td>\n",
       "      <td>...</td>\n",
       "      <td>...</td>\n",
       "    </tr>\n",
       "    <tr>\n",
       "      <th>6800</th>\n",
       "      <td>19425</td>\n",
       "      <td>2016-11-22 21:20:27</td>\n",
       "      <td>0.17</td>\n",
       "      <td>0.17</td>\n",
       "      <td>0.00</td>\n",
       "      <td>0.00</td>\n",
       "      <td>99.67</td>\n",
       "      <td>0.99</td>\n",
       "      <td>0.99</td>\n",
       "      <td>0.0</td>\n",
       "      <td>...</td>\n",
       "      <td>983</td>\n",
       "      <td>1417</td>\n",
       "      <td>489672</td>\n",
       "      <td>578816</td>\n",
       "      <td>1413</td>\n",
       "      <td>973</td>\n",
       "      <td>459845</td>\n",
       "      <td>595712</td>\n",
       "      <td>53.3583</td>\n",
       "      <td>107.0919</td>\n",
       "    </tr>\n",
       "    <tr>\n",
       "      <th>6801</th>\n",
       "      <td>19429</td>\n",
       "      <td>2016-11-22 21:20:33</td>\n",
       "      <td>0.17</td>\n",
       "      <td>0.17</td>\n",
       "      <td>0.00</td>\n",
       "      <td>0.00</td>\n",
       "      <td>99.67</td>\n",
       "      <td>0.00</td>\n",
       "      <td>1.00</td>\n",
       "      <td>0.0</td>\n",
       "      <td>...</td>\n",
       "      <td>990</td>\n",
       "      <td>1383</td>\n",
       "      <td>489621</td>\n",
       "      <td>547115</td>\n",
       "      <td>1383</td>\n",
       "      <td>990</td>\n",
       "      <td>451541</td>\n",
       "      <td>604013</td>\n",
       "      <td>53.4440</td>\n",
       "      <td>106.7679</td>\n",
       "    </tr>\n",
       "    <tr>\n",
       "      <th>6802</th>\n",
       "      <td>19430</td>\n",
       "      <td>2016-11-22 21:20:34</td>\n",
       "      <td>0.04</td>\n",
       "      <td>0.33</td>\n",
       "      <td>0.00</td>\n",
       "      <td>0.00</td>\n",
       "      <td>99.62</td>\n",
       "      <td>0.00</td>\n",
       "      <td>0.00</td>\n",
       "      <td>0.0</td>\n",
       "      <td>...</td>\n",
       "      <td>1034</td>\n",
       "      <td>1696</td>\n",
       "      <td>473274</td>\n",
       "      <td>650676</td>\n",
       "      <td>1695</td>\n",
       "      <td>1034</td>\n",
       "      <td>533322</td>\n",
       "      <td>577530</td>\n",
       "      <td>53.8170</td>\n",
       "      <td>106.2969</td>\n",
       "    </tr>\n",
       "    <tr>\n",
       "      <th>6803</th>\n",
       "      <td>19436</td>\n",
       "      <td>2016-11-22 21:20:42</td>\n",
       "      <td>0.08</td>\n",
       "      <td>0.29</td>\n",
       "      <td>0.00</td>\n",
       "      <td>0.00</td>\n",
       "      <td>99.62</td>\n",
       "      <td>0.00</td>\n",
       "      <td>0.00</td>\n",
       "      <td>0.0</td>\n",
       "      <td>...</td>\n",
       "      <td>326</td>\n",
       "      <td>445</td>\n",
       "      <td>173213</td>\n",
       "      <td>258979</td>\n",
       "      <td>444</td>\n",
       "      <td>326</td>\n",
       "      <td>161897</td>\n",
       "      <td>287605</td>\n",
       "      <td>53.5572</td>\n",
       "      <td>107.2379</td>\n",
       "    </tr>\n",
       "    <tr>\n",
       "      <th>6804</th>\n",
       "      <td>19442</td>\n",
       "      <td>2016-11-22 21:21:26</td>\n",
       "      <td>0.13</td>\n",
       "      <td>0.25</td>\n",
       "      <td>0.04</td>\n",
       "      <td>0.00</td>\n",
       "      <td>99.58</td>\n",
       "      <td>0.00</td>\n",
       "      <td>2.00</td>\n",
       "      <td>1.0</td>\n",
       "      <td>...</td>\n",
       "      <td>298</td>\n",
       "      <td>403</td>\n",
       "      <td>176157</td>\n",
       "      <td>207719</td>\n",
       "      <td>409</td>\n",
       "      <td>302</td>\n",
       "      <td>136640</td>\n",
       "      <td>293808</td>\n",
       "      <td>52.6049</td>\n",
       "      <td>104.9859</td>\n",
       "    </tr>\n",
       "  </tbody>\n",
       "</table>\n",
       "<p>6805 rows × 1712 columns</p>\n",
       "</div>"
      ],
      "text/plain": [
       "      Unnamed: 0            TimeStamp  0_all_..usr  0_all_..sys  \\\n",
       "0              1  2016-11-22 08:52:37         0.84         0.29   \n",
       "1              2  2016-11-22 08:52:38         1.29         0.50   \n",
       "2              7  2016-11-22 08:52:46         1.08         0.58   \n",
       "3             15  2016-11-22 08:52:55         0.71         0.29   \n",
       "4             16  2016-11-22 08:52:56         0.84         0.21   \n",
       "...          ...                  ...          ...          ...   \n",
       "6800       19425  2016-11-22 21:20:27         0.17         0.17   \n",
       "6801       19429  2016-11-22 21:20:33         0.17         0.17   \n",
       "6802       19430  2016-11-22 21:20:34         0.04         0.33   \n",
       "6803       19436  2016-11-22 21:20:42         0.08         0.29   \n",
       "6804       19442  2016-11-22 21:21:26         0.13         0.25   \n",
       "\n",
       "      0_all_..iowait  0_all_..soft  0_all_..idle  0_cpu0_.usr  0_cpu0_.sys  \\\n",
       "0               0.17          0.00         98.70         6.00         0.00   \n",
       "1               0.21          0.00         97.99         7.00         2.00   \n",
       "2               0.13          0.04         98.17         2.00         2.00   \n",
       "3               0.17          0.04         98.79         3.00         2.00   \n",
       "4               0.04          0.04         98.87         4.00         2.00   \n",
       "...              ...           ...           ...          ...          ...   \n",
       "6800            0.00          0.00         99.67         0.99         0.99   \n",
       "6801            0.00          0.00         99.67         0.00         1.00   \n",
       "6802            0.00          0.00         99.62         0.00         0.00   \n",
       "6803            0.00          0.00         99.62         0.00         0.00   \n",
       "6804            0.04          0.00         99.58         0.00         2.00   \n",
       "\n",
       "      0_cpu0_.iowait  ...  40_RxPacktes.1  40_TxPacktes.1  40_RxBytes.1  \\\n",
       "0                0.0  ...             897            1224        495878   \n",
       "1                1.0  ...             891            1236        488287   \n",
       "2                0.0  ...             922            1218        503116   \n",
       "3                1.0  ...             914            1284        492803   \n",
       "4                1.0  ...             863            1216        498189   \n",
       "...              ...  ...             ...             ...           ...   \n",
       "6800             0.0  ...             983            1417        489672   \n",
       "6801             0.0  ...             990            1383        489621   \n",
       "6802             0.0  ...            1034            1696        473274   \n",
       "6803             0.0  ...             326             445        173213   \n",
       "6804             1.0  ...             298             403        176157   \n",
       "\n",
       "      40_TxBytes.1  41_RxPacktes.1  41_TxPacktes.1  41_RxBytes.1  \\\n",
       "0           603664            1224             898        405288   \n",
       "1           577703            1259             895        411853   \n",
       "2           642206            1220             922        417946   \n",
       "3           601726            1278             914        415035   \n",
       "4           533934            1216             864        381893   \n",
       "...            ...             ...             ...           ...   \n",
       "6800        578816            1413             973        459845   \n",
       "6801        547115            1383             990        451541   \n",
       "6802        650676            1695            1034        533322   \n",
       "6803        258979             444             326        161897   \n",
       "6804        207719             409             302        136640   \n",
       "\n",
       "      41_TxBytes.1  ReadsAvg  WritesAvg  \n",
       "0           668193   59.3928   113.4178  \n",
       "1           665647   58.3325   109.1802  \n",
       "2           751137   58.8779   114.7778  \n",
       "3           636155   57.3831   107.6095  \n",
       "4           640162   52.5361   106.5753  \n",
       "...            ...       ...        ...  \n",
       "6800        595712   53.3583   107.0919  \n",
       "6801        604013   53.4440   106.7679  \n",
       "6802        577530   53.8170   106.2969  \n",
       "6803        287605   53.5572   107.2379  \n",
       "6804        293808   52.6049   104.9859  \n",
       "\n",
       "[6805 rows x 1712 columns]"
      ]
     },
     "execution_count": 7,
     "metadata": {},
     "output_type": "execute_result"
    }
   ],
   "source": [
    "train= train.loc[:, (train != 0).any(axis=0)]"
   ]
  },
  {
   "cell_type": "markdown",
   "metadata": {},
   "source": [
    "### Feature selection"
   ]
  },
  {
   "cell_type": "code",
   "execution_count": 10,
   "metadata": {},
   "outputs": [
    {
     "name": "stdout",
     "output_type": "stream",
     "text": [
      "36.92004632949829\n"
     ]
    }
   ],
   "source": [
    "start_time = time.time()\n",
    "corr=train_.corr()\n",
    "corr['sq_r'] = corr.ReadsAvg**2\n",
    "corr_r = corr.sort_values('sq_r',ascending=False)\n",
    "end_time = time.time()\n",
    "print(end_time-start_time)"
   ]
  },
  {
   "cell_type": "code",
   "execution_count": 11,
   "metadata": {
    "scrolled": true
   },
   "outputs": [],
   "source": [
    "corr_r['sq_r'].to_csv(\"./Flash/read_p_c.csv\")\n",
    "#corr_r['sq_r'].head(64).to_csv(\"read_p_c.csv\")"
   ]
  },
  {
   "cell_type": "code",
   "execution_count": 12,
   "metadata": {},
   "outputs": [
    {
     "name": "stdout",
     "output_type": "stream",
     "text": [
      "7.136568069458008\n"
     ]
    }
   ],
   "source": [
    ">>> from sklearn.ensemble import ExtraTreesClassifier\n",
    "from sklearn.ensemble import RandomForestClassifier\n",
    "from sklearn.feature_selection import SelectFromModel\n",
    "\n",
    "Y_train_r_int=Y_train_r.astype(int)\n",
    "start_time = time.time()\n",
    "clf=ExtraTreesClassifier(n_estimators=100)\n",
    "clf.fit(X_train, Y_train_r_int)\n",
    "feat_importances = pd.Series(clf.feature_importances_, index=X_train.columns)\n",
    "end_time = time.time()\n",
    "print(end_time-start_time)"
   ]
  },
  {
   "cell_type": "code",
   "execution_count": 13,
   "metadata": {},
   "outputs": [],
   "source": [
    "#feat_importances.nlargest(64).to_csv(\"read_t_b.csv\")\n",
    "feat_importances.nlargest(200).to_csv(\"./Flash/read_t_b.csv\")"
   ]
  },
  {
   "cell_type": "code",
   "execution_count": 15,
   "metadata": {},
   "outputs": [],
   "source": [
    "from numpy import dot\n",
    "from numpy.linalg import norm\n",
    "\n",
    "exp=X_train\n",
    "exp= exp.loc[:, (exp != 0).any(axis=0)]\n",
    "exp.loc[-1] = range(0,exp.shape[1])\n",
    "\n",
    "#arr=exp[flist16]\n",
    "arr=exp\n",
    "arr_d_x=arr.shape[0]\n",
    "arr_d_y=arr.shape[1]"
   ]
  },
  {
   "cell_type": "code",
   "execution_count": 16,
   "metadata": {},
   "outputs": [
    {
     "name": "stdout",
     "output_type": "stream",
     "text": [
      "176.32039737701416\n"
     ]
    }
   ],
   "source": [
    "start_time = time.time()\n",
    "dotab=np.zeros((arr_d_y,arr.shape[1]))\n",
    "for i in range(0,arr_d_y):\n",
    "    a=exp.iloc[0:arr_d_x-1,i]\n",
    "    for j in range(0,i+1):\n",
    "        b=arr.iloc[0:arr_d_x-1,j]\n",
    "        dotab[i,j]=dot(a, b)\n",
    "end_time = time.time()\n",
    "print(end_time-start_time)"
   ]
  },
  {
   "cell_type": "code",
   "execution_count": 17,
   "metadata": {},
   "outputs": [
    {
     "name": "stdout",
     "output_type": "stream",
     "text": [
      "0.7387564182281494\n"
     ]
    },
    {
     "data": {
      "text/plain": [
       "array([9.24715510e+05, 5.35465713e+01, 6.59352129e+01, ...,\n",
       "       2.48192934e+05, 1.15320056e+08, 2.27662592e+08])"
      ]
     },
     "execution_count": 17,
     "metadata": {},
     "output_type": "execute_result"
    }
   ],
   "source": [
    "start_time = time.time()\n",
    "for i in range(0,arr_d_y):\n",
    "    for j in range(i+1,arr_d_y):\n",
    "        dotab[i,j]=dotab[j, i]\n",
    "narr=np.zeros(arr_d_y)\n",
    "for i in range(0,arr_d_y):\n",
    "    a=arr.iloc[0:arr_d_x-1,i]\n",
    "    na=norm(a)\n",
    "    narr[i]=na\n",
    "end_time = time.time()\n",
    "print(end_time-start_time)\n",
    "narr"
   ]
  },
  {
   "cell_type": "code",
   "execution_count": 18,
   "metadata": {},
   "outputs": [
    {
     "name": "stdout",
     "output_type": "stream",
     "text": [
      "295.49398612976074\n"
     ]
    },
    {
     "data": {
      "text/html": [
       "<div>\n",
       "<style scoped>\n",
       "    .dataframe tbody tr th:only-of-type {\n",
       "        vertical-align: middle;\n",
       "    }\n",
       "\n",
       "    .dataframe tbody tr th {\n",
       "        vertical-align: top;\n",
       "    }\n",
       "\n",
       "    .dataframe thead th {\n",
       "        text-align: right;\n",
       "    }\n",
       "</style>\n",
       "<table border=\"1\" class=\"dataframe\">\n",
       "  <thead>\n",
       "    <tr style=\"text-align: right;\">\n",
       "      <th></th>\n",
       "      <th>Unnamed: 0</th>\n",
       "      <th>0_all_..usr</th>\n",
       "      <th>0_all_..sys</th>\n",
       "      <th>0_all_..iowait</th>\n",
       "      <th>0_all_..soft</th>\n",
       "      <th>0_all_..idle</th>\n",
       "      <th>0_cpu0_.usr</th>\n",
       "      <th>0_cpu0_.sys</th>\n",
       "      <th>0_cpu0_.iowait</th>\n",
       "      <th>0_cpu0_.soft</th>\n",
       "      <th>...</th>\n",
       "      <th>36_RxBytes.1</th>\n",
       "      <th>36_TxBytes.1</th>\n",
       "      <th>40_RxPacktes.1</th>\n",
       "      <th>40_TxPacktes.1</th>\n",
       "      <th>40_RxBytes.1</th>\n",
       "      <th>40_TxBytes.1</th>\n",
       "      <th>41_RxPacktes.1</th>\n",
       "      <th>41_TxPacktes.1</th>\n",
       "      <th>41_RxBytes.1</th>\n",
       "      <th>41_TxBytes.1</th>\n",
       "    </tr>\n",
       "  </thead>\n",
       "  <tbody>\n",
       "    <tr>\n",
       "      <th>0</th>\n",
       "      <td>1.000000</td>\n",
       "      <td>0.840000</td>\n",
       "      <td>0.290000</td>\n",
       "      <td>1.700000e-01</td>\n",
       "      <td>0.000000</td>\n",
       "      <td>98.700000</td>\n",
       "      <td>6.000000</td>\n",
       "      <td>0.000000</td>\n",
       "      <td>0.000000e+00</td>\n",
       "      <td>0.000000</td>\n",
       "      <td>...</td>\n",
       "      <td>1.337184e+06</td>\n",
       "      <td>1.797629e+06</td>\n",
       "      <td>897.000000</td>\n",
       "      <td>1224.00000</td>\n",
       "      <td>4.958780e+05</td>\n",
       "      <td>6.036640e+05</td>\n",
       "      <td>1224.000000</td>\n",
       "      <td>898.000000</td>\n",
       "      <td>4.052880e+05</td>\n",
       "      <td>6.681930e+05</td>\n",
       "    </tr>\n",
       "    <tr>\n",
       "      <th>1</th>\n",
       "      <td>2.000000</td>\n",
       "      <td>1.290000</td>\n",
       "      <td>0.500000</td>\n",
       "      <td>2.100000e-01</td>\n",
       "      <td>0.000000</td>\n",
       "      <td>97.990000</td>\n",
       "      <td>7.000000</td>\n",
       "      <td>2.000000</td>\n",
       "      <td>1.000000e+00</td>\n",
       "      <td>0.000000</td>\n",
       "      <td>...</td>\n",
       "      <td>1.348824e+06</td>\n",
       "      <td>1.743474e+06</td>\n",
       "      <td>891.000000</td>\n",
       "      <td>1236.00000</td>\n",
       "      <td>4.882870e+05</td>\n",
       "      <td>5.777030e+05</td>\n",
       "      <td>1259.000000</td>\n",
       "      <td>895.000000</td>\n",
       "      <td>4.118530e+05</td>\n",
       "      <td>6.656470e+05</td>\n",
       "    </tr>\n",
       "    <tr>\n",
       "      <th>2</th>\n",
       "      <td>7.000000</td>\n",
       "      <td>1.080000</td>\n",
       "      <td>0.580000</td>\n",
       "      <td>1.300000e-01</td>\n",
       "      <td>0.040000</td>\n",
       "      <td>98.170000</td>\n",
       "      <td>2.000000</td>\n",
       "      <td>2.000000</td>\n",
       "      <td>0.000000e+00</td>\n",
       "      <td>0.000000</td>\n",
       "      <td>...</td>\n",
       "      <td>1.337640e+06</td>\n",
       "      <td>1.998145e+06</td>\n",
       "      <td>922.000000</td>\n",
       "      <td>1218.00000</td>\n",
       "      <td>5.031160e+05</td>\n",
       "      <td>6.422060e+05</td>\n",
       "      <td>1220.000000</td>\n",
       "      <td>922.000000</td>\n",
       "      <td>4.179460e+05</td>\n",
       "      <td>7.511370e+05</td>\n",
       "    </tr>\n",
       "    <tr>\n",
       "      <th>3</th>\n",
       "      <td>15.000000</td>\n",
       "      <td>0.710000</td>\n",
       "      <td>0.290000</td>\n",
       "      <td>1.700000e-01</td>\n",
       "      <td>0.040000</td>\n",
       "      <td>98.790000</td>\n",
       "      <td>3.000000</td>\n",
       "      <td>2.000000</td>\n",
       "      <td>1.000000e+00</td>\n",
       "      <td>0.000000</td>\n",
       "      <td>...</td>\n",
       "      <td>1.321115e+06</td>\n",
       "      <td>1.822001e+06</td>\n",
       "      <td>914.000000</td>\n",
       "      <td>1284.00000</td>\n",
       "      <td>4.928030e+05</td>\n",
       "      <td>6.017260e+05</td>\n",
       "      <td>1278.000000</td>\n",
       "      <td>914.000000</td>\n",
       "      <td>4.150350e+05</td>\n",
       "      <td>6.361550e+05</td>\n",
       "    </tr>\n",
       "    <tr>\n",
       "      <th>4</th>\n",
       "      <td>16.000000</td>\n",
       "      <td>0.840000</td>\n",
       "      <td>0.210000</td>\n",
       "      <td>4.000000e-02</td>\n",
       "      <td>0.040000</td>\n",
       "      <td>98.870000</td>\n",
       "      <td>4.000000</td>\n",
       "      <td>2.000000</td>\n",
       "      <td>1.000000e+00</td>\n",
       "      <td>0.000000</td>\n",
       "      <td>...</td>\n",
       "      <td>1.347406e+06</td>\n",
       "      <td>1.798165e+06</td>\n",
       "      <td>863.000000</td>\n",
       "      <td>1216.00000</td>\n",
       "      <td>4.981890e+05</td>\n",
       "      <td>5.339340e+05</td>\n",
       "      <td>1216.000000</td>\n",
       "      <td>864.000000</td>\n",
       "      <td>3.818930e+05</td>\n",
       "      <td>6.401620e+05</td>\n",
       "    </tr>\n",
       "    <tr>\n",
       "      <th>...</th>\n",
       "      <td>...</td>\n",
       "      <td>...</td>\n",
       "      <td>...</td>\n",
       "      <td>...</td>\n",
       "      <td>...</td>\n",
       "      <td>...</td>\n",
       "      <td>...</td>\n",
       "      <td>...</td>\n",
       "      <td>...</td>\n",
       "      <td>...</td>\n",
       "      <td>...</td>\n",
       "      <td>...</td>\n",
       "      <td>...</td>\n",
       "      <td>...</td>\n",
       "      <td>...</td>\n",
       "      <td>...</td>\n",
       "      <td>...</td>\n",
       "      <td>...</td>\n",
       "      <td>...</td>\n",
       "      <td>...</td>\n",
       "      <td>...</td>\n",
       "    </tr>\n",
       "    <tr>\n",
       "      <th>6801</th>\n",
       "      <td>19429.000000</td>\n",
       "      <td>0.170000</td>\n",
       "      <td>0.170000</td>\n",
       "      <td>0.000000e+00</td>\n",
       "      <td>0.000000</td>\n",
       "      <td>99.670000</td>\n",
       "      <td>0.000000</td>\n",
       "      <td>1.000000</td>\n",
       "      <td>0.000000e+00</td>\n",
       "      <td>0.000000</td>\n",
       "      <td>...</td>\n",
       "      <td>7.720500e+05</td>\n",
       "      <td>5.328200e+05</td>\n",
       "      <td>990.000000</td>\n",
       "      <td>1383.00000</td>\n",
       "      <td>4.896210e+05</td>\n",
       "      <td>5.471150e+05</td>\n",
       "      <td>1383.000000</td>\n",
       "      <td>990.000000</td>\n",
       "      <td>4.515410e+05</td>\n",
       "      <td>6.040130e+05</td>\n",
       "    </tr>\n",
       "    <tr>\n",
       "      <th>6802</th>\n",
       "      <td>19430.000000</td>\n",
       "      <td>0.040000</td>\n",
       "      <td>0.330000</td>\n",
       "      <td>0.000000e+00</td>\n",
       "      <td>0.000000</td>\n",
       "      <td>99.620000</td>\n",
       "      <td>0.000000</td>\n",
       "      <td>0.000000</td>\n",
       "      <td>0.000000e+00</td>\n",
       "      <td>0.000000</td>\n",
       "      <td>...</td>\n",
       "      <td>5.116220e+05</td>\n",
       "      <td>7.270460e+05</td>\n",
       "      <td>1034.000000</td>\n",
       "      <td>1696.00000</td>\n",
       "      <td>4.732740e+05</td>\n",
       "      <td>6.506760e+05</td>\n",
       "      <td>1695.000000</td>\n",
       "      <td>1034.000000</td>\n",
       "      <td>5.333220e+05</td>\n",
       "      <td>5.775300e+05</td>\n",
       "    </tr>\n",
       "    <tr>\n",
       "      <th>6803</th>\n",
       "      <td>19436.000000</td>\n",
       "      <td>0.080000</td>\n",
       "      <td>0.290000</td>\n",
       "      <td>0.000000e+00</td>\n",
       "      <td>0.000000</td>\n",
       "      <td>99.620000</td>\n",
       "      <td>0.000000</td>\n",
       "      <td>0.000000</td>\n",
       "      <td>0.000000e+00</td>\n",
       "      <td>0.000000</td>\n",
       "      <td>...</td>\n",
       "      <td>1.749840e+05</td>\n",
       "      <td>2.227580e+05</td>\n",
       "      <td>326.000000</td>\n",
       "      <td>445.00000</td>\n",
       "      <td>1.732130e+05</td>\n",
       "      <td>2.589790e+05</td>\n",
       "      <td>444.000000</td>\n",
       "      <td>326.000000</td>\n",
       "      <td>1.618970e+05</td>\n",
       "      <td>2.876050e+05</td>\n",
       "    </tr>\n",
       "    <tr>\n",
       "      <th>6804</th>\n",
       "      <td>19442.000000</td>\n",
       "      <td>0.130000</td>\n",
       "      <td>0.250000</td>\n",
       "      <td>4.000000e-02</td>\n",
       "      <td>0.000000</td>\n",
       "      <td>99.580000</td>\n",
       "      <td>0.000000</td>\n",
       "      <td>2.000000</td>\n",
       "      <td>1.000000e+00</td>\n",
       "      <td>0.000000</td>\n",
       "      <td>...</td>\n",
       "      <td>1.741730e+05</td>\n",
       "      <td>2.164070e+05</td>\n",
       "      <td>298.000000</td>\n",
       "      <td>403.00000</td>\n",
       "      <td>1.761570e+05</td>\n",
       "      <td>2.077190e+05</td>\n",
       "      <td>409.000000</td>\n",
       "      <td>302.000000</td>\n",
       "      <td>1.366400e+05</td>\n",
       "      <td>2.938080e+05</td>\n",
       "    </tr>\n",
       "    <tr>\n",
       "      <th>-1</th>\n",
       "      <td>43117.484456</td>\n",
       "      <td>2.398452</td>\n",
       "      <td>2.131022</td>\n",
       "      <td>4.003884e+07</td>\n",
       "      <td>0.300618</td>\n",
       "      <td>2.716388</td>\n",
       "      <td>8.598349</td>\n",
       "      <td>10.655696</td>\n",
       "      <td>9.678103e+08</td>\n",
       "      <td>4.655451</td>\n",
       "      <td>...</td>\n",
       "      <td>8.285028e+06</td>\n",
       "      <td>1.147183e+07</td>\n",
       "      <td>15671.273708</td>\n",
       "      <td>20877.91981</td>\n",
       "      <td>9.072015e+06</td>\n",
       "      <td>1.299672e+07</td>\n",
       "      <td>20878.441202</td>\n",
       "      <td>15673.980096</td>\n",
       "      <td>7.408293e+06</td>\n",
       "      <td>1.638337e+07</td>\n",
       "    </tr>\n",
       "  </tbody>\n",
       "</table>\n",
       "<p>6806 rows × 1709 columns</p>\n",
       "</div>"
      ],
      "text/plain": [
       "         Unnamed: 0  0_all_..usr  0_all_..sys  0_all_..iowait  0_all_..soft  \\\n",
       " 0         1.000000     0.840000     0.290000    1.700000e-01      0.000000   \n",
       " 1         2.000000     1.290000     0.500000    2.100000e-01      0.000000   \n",
       " 2         7.000000     1.080000     0.580000    1.300000e-01      0.040000   \n",
       " 3        15.000000     0.710000     0.290000    1.700000e-01      0.040000   \n",
       " 4        16.000000     0.840000     0.210000    4.000000e-02      0.040000   \n",
       "...             ...          ...          ...             ...           ...   \n",
       " 6801  19429.000000     0.170000     0.170000    0.000000e+00      0.000000   \n",
       " 6802  19430.000000     0.040000     0.330000    0.000000e+00      0.000000   \n",
       " 6803  19436.000000     0.080000     0.290000    0.000000e+00      0.000000   \n",
       " 6804  19442.000000     0.130000     0.250000    4.000000e-02      0.000000   \n",
       "-1     43117.484456     2.398452     2.131022    4.003884e+07      0.300618   \n",
       "\n",
       "       0_all_..idle  0_cpu0_.usr  0_cpu0_.sys  0_cpu0_.iowait  0_cpu0_.soft  \\\n",
       " 0        98.700000     6.000000     0.000000    0.000000e+00      0.000000   \n",
       " 1        97.990000     7.000000     2.000000    1.000000e+00      0.000000   \n",
       " 2        98.170000     2.000000     2.000000    0.000000e+00      0.000000   \n",
       " 3        98.790000     3.000000     2.000000    1.000000e+00      0.000000   \n",
       " 4        98.870000     4.000000     2.000000    1.000000e+00      0.000000   \n",
       "...             ...          ...          ...             ...           ...   \n",
       " 6801     99.670000     0.000000     1.000000    0.000000e+00      0.000000   \n",
       " 6802     99.620000     0.000000     0.000000    0.000000e+00      0.000000   \n",
       " 6803     99.620000     0.000000     0.000000    0.000000e+00      0.000000   \n",
       " 6804     99.580000     0.000000     2.000000    1.000000e+00      0.000000   \n",
       "-1         2.716388     8.598349    10.655696    9.678103e+08      4.655451   \n",
       "\n",
       "       ...  36_RxBytes.1  36_TxBytes.1  40_RxPacktes.1  40_TxPacktes.1  \\\n",
       " 0     ...  1.337184e+06  1.797629e+06      897.000000      1224.00000   \n",
       " 1     ...  1.348824e+06  1.743474e+06      891.000000      1236.00000   \n",
       " 2     ...  1.337640e+06  1.998145e+06      922.000000      1218.00000   \n",
       " 3     ...  1.321115e+06  1.822001e+06      914.000000      1284.00000   \n",
       " 4     ...  1.347406e+06  1.798165e+06      863.000000      1216.00000   \n",
       "...    ...           ...           ...             ...             ...   \n",
       " 6801  ...  7.720500e+05  5.328200e+05      990.000000      1383.00000   \n",
       " 6802  ...  5.116220e+05  7.270460e+05     1034.000000      1696.00000   \n",
       " 6803  ...  1.749840e+05  2.227580e+05      326.000000       445.00000   \n",
       " 6804  ...  1.741730e+05  2.164070e+05      298.000000       403.00000   \n",
       "-1     ...  8.285028e+06  1.147183e+07    15671.273708     20877.91981   \n",
       "\n",
       "       40_RxBytes.1  40_TxBytes.1  41_RxPacktes.1  41_TxPacktes.1  \\\n",
       " 0     4.958780e+05  6.036640e+05     1224.000000      898.000000   \n",
       " 1     4.882870e+05  5.777030e+05     1259.000000      895.000000   \n",
       " 2     5.031160e+05  6.422060e+05     1220.000000      922.000000   \n",
       " 3     4.928030e+05  6.017260e+05     1278.000000      914.000000   \n",
       " 4     4.981890e+05  5.339340e+05     1216.000000      864.000000   \n",
       "...             ...           ...             ...             ...   \n",
       " 6801  4.896210e+05  5.471150e+05     1383.000000      990.000000   \n",
       " 6802  4.732740e+05  6.506760e+05     1695.000000     1034.000000   \n",
       " 6803  1.732130e+05  2.589790e+05      444.000000      326.000000   \n",
       " 6804  1.761570e+05  2.077190e+05      409.000000      302.000000   \n",
       "-1     9.072015e+06  1.299672e+07    20878.441202    15673.980096   \n",
       "\n",
       "       41_RxBytes.1  41_TxBytes.1  \n",
       " 0     4.052880e+05  6.681930e+05  \n",
       " 1     4.118530e+05  6.656470e+05  \n",
       " 2     4.179460e+05  7.511370e+05  \n",
       " 3     4.150350e+05  6.361550e+05  \n",
       " 4     3.818930e+05  6.401620e+05  \n",
       "...             ...           ...  \n",
       " 6801  4.515410e+05  6.040130e+05  \n",
       " 6802  5.333220e+05  5.775300e+05  \n",
       " 6803  1.618970e+05  2.876050e+05  \n",
       " 6804  1.366400e+05  2.938080e+05  \n",
       "-1     7.408293e+06  1.638337e+07  \n",
       "\n",
       "[6806 rows x 1709 columns]"
      ]
     },
     "execution_count": 18,
     "metadata": {},
     "output_type": "execute_result"
    }
   ],
   "source": [
    "start_time = time.time()\n",
    "for i in range(0,arr_d_y):\n",
    "    mean=arr.iloc[:,i].mean()\n",
    "    r=0.0\n",
    "    for j in range(0,arr_d_x-1):\n",
    "        r=r+np.abs(arr.iloc[j,i]-mean)\n",
    "    s=0.0\n",
    "    for j in range(0,arr_d_y):\n",
    "        na=narr[i]\n",
    "        nb=narr[j]\n",
    "        if((na>0)and(nb>0)):\n",
    "            s=s+np.abs(dotab[i,j]/(na*nb))\n",
    "    if(s!=0):\n",
    "        score=r/s\n",
    "    else:\n",
    "        score=math.inf\n",
    "    arr.iloc[-1,i]=score\n",
    "end_time = time.time()\n",
    "print(end_time-start_time)\n",
    "arr"
   ]
  },
  {
   "cell_type": "code",
   "execution_count": 19,
   "metadata": {},
   "outputs": [],
   "source": [
    "score=arr.iloc[-1,:]\n",
    "score=score.sort_values(ascending=False)\n",
    "score.to_csv(\"./Flash/read_arr.csv\")\n",
    "#score.head(64).to_csv(\"read_arr.csv\")"
   ]
  },
  {
   "cell_type": "markdown",
   "metadata": {},
   "source": [
    "### PCA"
   ]
  },
  {
   "cell_type": "code",
   "execution_count": 23,
   "metadata": {},
   "outputs": [
    {
     "name": "stdout",
     "output_type": "stream",
     "text": [
      "5.562438726425171\n"
     ]
    }
   ],
   "source": [
    "pca = PCA()\n",
    "start_time = time.time()\n",
    "X_train_r=StandardScaler().fit_transform(X_train)\n",
    "X_test_r = StandardScaler().fit_transform(X_test)\n",
    "X_train_pca = pca.fit_transform(X_train_r)[:,:]\n",
    "X_test_pca= pca.fit_transform(X_test_r)[:,:]\n",
    "end_time = time.time()\n",
    "print(end_time-start_time)"
   ]
  },
  {
   "cell_type": "markdown",
   "metadata": {},
   "source": [
    "### Read files"
   ]
  },
  {
   "cell_type": "code",
   "execution_count": 27,
   "metadata": {},
   "outputs": [],
   "source": [
    "#  Pearson correlation\n",
    "pc = pd.read_csv('./Flash/read_p_c.csv')\n",
    "pc_f= pc.iloc[2:,0].tolist()\n",
    "X_train_pc=X_train[pc_f]\n",
    "X_test_pc=X_test[pc_f]\n",
    "pc_nmae=[]\n",
    "pc_time=[]\n",
    "\n",
    "# tree based\n",
    "tb = pd.read_csv('./Flash/read_t_b.csv')\n",
    "tb_f=tb.iloc[0:,0].tolist()\n",
    "X_train_tb=X_train[tb_f]\n",
    "X_test_tb=X_test[tb_f]\n",
    "tb_nmae=[]\n",
    "tb_time=[]\n",
    "\n",
    "# ARR\n",
    "arr = pd.read_csv('./Flash/read_arr.csv')\n",
    "arr_f=arr.iloc[0:,0].tolist()\n",
    "X_train_arr=X_train[arr_f]\n",
    "X_test_arr=X_test[arr_f]\n",
    "arr_nmae=[]\n",
    "arr_time=[]"
   ]
  },
  {
   "cell_type": "markdown",
   "metadata": {},
   "source": [
    "### Pearson correlation, tree based, ARR"
   ]
  },
  {
   "cell_type": "code",
   "execution_count": 24,
   "metadata": {},
   "outputs": [],
   "source": [
    "def fit_RF_reg(X,Y,X_test,Y_test):\n",
    "    start_time = time.time()\n",
    "    \n",
    "    rfr = RandomForestRegressor(n_estimators = 10, n_jobs = -1, random_state = 10,verbose = 0)\n",
    "    rfr.fit(X, Y)\n",
    "    \n",
    "    end_time = time.time()\n",
    "    timec=end_time - start_time\n",
    "\n",
    "    NMAE=np.mean(np.abs(rfr.predict(X_test) - Y_test))/np.mean(Y_test)\n",
    "    #R_squared = model_k.score(X,Y)\n",
    "    return NMAE, timec"
   ]
  },
  {
   "cell_type": "code",
   "execution_count": 28,
   "metadata": {},
   "outputs": [],
   "source": [
    "klist=[1, 2,3, 4, 5,6,7,8, 10, 12, 14, 16, 18, 20, 22, 24, 26, 28, 30,     32,40,48,56,64,  96,128,192,256,512,1024]\n",
    "\n",
    "def RF_training_f(klist,X_train_f,Y_train_r,X_test_f,Y_test_r,nmae,training_t):\n",
    "    for k in klist:\n",
    "        error,timec = fit_RF_reg(X_train_f.iloc[:,0:k],Y_train_r,X_test_f.iloc[:,0:k],Y_test_r)\n",
    "        nmae.append(error)\n",
    "        training_t.append(timec)"
   ]
  },
  {
   "cell_type": "code",
   "execution_count": 29,
   "metadata": {},
   "outputs": [],
   "source": [
    "r_pc_nmae=[]\n",
    "r_pc_time=[]\n",
    "RF_training_f(klist,X_train_pc,Y_train_r,X_test_pc,Y_test_r,r_pc_nmae,r_pc_time)"
   ]
  },
  {
   "cell_type": "code",
   "execution_count": 30,
   "metadata": {},
   "outputs": [],
   "source": [
    "r_tb_nmae=[]\n",
    "r_tb_time=[]\n",
    "RF_training_f(klist,X_train_tb,Y_train_r,X_test_tb,Y_test_r, r_tb_nmae,r_tb_time)"
   ]
  },
  {
   "cell_type": "code",
   "execution_count": 34,
   "metadata": {},
   "outputs": [],
   "source": [
    "r_arr_nmae=[]\n",
    "r_arr_time=[]\n",
    "RF_training_f(klist,X_train_arr,Y_train_r,X_test_arr,Y_test_r, r_arr_nmae,r_arr_time)"
   ]
  },
  {
   "cell_type": "markdown",
   "metadata": {},
   "source": [
    "### PCA"
   ]
  },
  {
   "cell_type": "code",
   "execution_count": 32,
   "metadata": {},
   "outputs": [],
   "source": [
    "def RF_training_pca(klist,X_train_f,Y_train_r,X_test_f,Y_test_r,nmae,training_t):\n",
    "    for k in klist:\n",
    "        error,timec = fit_RF_reg(X_train_f[:,0:k],Y_train_r,X_test_f[:,0:k],Y_test_r)\n",
    "        nmae.append(error)\n",
    "        training_t.append(timec)\n",
    "\n",
    "r_pca_nmae=[]\n",
    "r_pca_time=[]\n",
    "RF_training_pca(klist ,X_train_pca,Y_train_r,X_test_pca,Y_test_r, r_pca_nmae,r_pca_time)"
   ]
  },
  {
   "cell_type": "markdown",
   "metadata": {},
   "source": [
    "### Plot"
   ]
  },
  {
   "cell_type": "code",
   "execution_count": 38,
   "metadata": {},
   "outputs": [
    {
     "name": "stderr",
     "output_type": "stream",
     "text": [
      "/opt/conda/lib/python3.7/site-packages/ipykernel_launcher.py:36: MatplotlibDeprecationWarning: The 'basex' parameter of __init__() has been renamed 'base' since Matplotlib 3.3; support for the old name will be dropped two minor releases later.\n"
     ]
    },
    {
     "data": {
      "image/png": "[encoded data removed]",
      "text/plain": [
       "<Figure size 576x288 with 2 Axes>"
      ]
     },
     "metadata": {
      "needs_background": "light"
     },
     "output_type": "display_data"
    }
   ],
   "source": [
    "#a=[1, 2,3, 4, 5,6,7,8, 10, 12, 14, 16, 18, 20, 22, 24, 26, 28, 30,     32,40,48,56,64,  96,128,192,256,512,1024]\n",
    "a = [0,1,3,7,9,11,15,19,21,23,24,25,26,27,28,29]\n",
    "\n",
    "def sortindex(list,indexs):\n",
    "    _ = []\n",
    "    for a in indexs:\n",
    "        _.append(list[a])\n",
    "    return _\n",
    "\n",
    "fig, axes = plt.subplots(nrows=1, ncols=1, figsize=(8, 4))\n",
    "ax = fig.add_axes([0, 0, 1, 1]) \n",
    "#my_xticks=list(range(1, 13))\n",
    "# plt.plot(klist,r_pc_nmae,marker='o')\n",
    "# plt.plot(klist,r_tb_nmae,marker='o')\n",
    "# plt.plot(klist,r_arr_nmae,marker='o')\n",
    "# plt.plot(klist,r_pca_nmae,marker='o')\n",
    "plt.plot(sortindex(klist,a),sortindex(r_pc_nmae,a),marker='o')\n",
    "plt.plot(sortindex(klist,a),sortindex(r_tb_nmae,a),marker='o')\n",
    "plt.plot(sortindex(klist,a),sortindex(r_arr_nmae,a),marker='o')\n",
    "plt.plot(sortindex(klist,a),sortindex(r_pca_nmae,a),marker='o')\n",
    "\n",
    "\n",
    "font_size=18\n",
    "plt.xlabel('Number of features', fontsize=font_size)\n",
    "plt.ylabel('NMAE of ReadsAvg', fontsize=font_size-4)\n",
    "plt.legend(('Univariate','Tree-based','ARR','PCA'), \n",
    "           loc=1, shadow=False, fancybox=True, fontsize=font_size-4)\n",
    "#  bbox_to_anchor=(1.01,1.0), borderaxespad = 0.,\n",
    "plt.tick_params(axis='both', which='major', labelsize=font_size-2)\n",
    "plt.tick_params(axis='both', which='minor', labelsize=font_size-4)\n",
    "\n",
    "x_major_locator=MultipleLocator(8)\n",
    "ax=plt.gca()\n",
    "#ax.xaxis.set_major_locator(x_major_locator)\n",
    "\n",
    "ax.set_xscale(\"log\",basex=2)\n",
    "ax.set_xticks([1,2,4,8,16,32,64,128,256,512,1024])\n",
    "#ax.set_ylim(0.021, 0.035)\n",
    "plt.grid()\n",
    "plt.savefig(\"./Fig/flash_NMAE.png\",dpi=300,bbox_inches='tight')"
   ]
  },
  {
   "cell_type": "code",
   "execution_count": 37,
   "metadata": {},
   "outputs": [
    {
     "name": "stderr",
     "output_type": "stream",
     "text": [
      "/opt/conda/lib/python3.7/site-packages/ipykernel_launcher.py:20: MatplotlibDeprecationWarning: The 'basex' parameter of __init__() has been renamed 'base' since Matplotlib 3.3; support for the old name will be dropped two minor releases later.\n",
      "/opt/conda/lib/python3.7/site-packages/ipykernel_launcher.py:21: MatplotlibDeprecationWarning: The 'basey' parameter of __init__() has been renamed 'base' since Matplotlib 3.3; support for the old name will be dropped two minor releases later.\n"
     ]
    },
    {
     "data": {
      "image/png": "[encoded data removed]",
      "text/plain": [
       "<Figure size 576x288 with 2 Axes>"
      ]
     },
     "metadata": {
      "needs_background": "light"
     },
     "output_type": "display_data"
    }
   ],
   "source": [
    "from matplotlib.pyplot import MultipleLocator\n",
    "fig, axes = plt.subplots(nrows=1, ncols=1, figsize=(8, 4))\n",
    "ax = fig.add_axes([0, 0, 1, 1]) \n",
    "#my_xticks=list(range(1, 13))\n",
    "plt.plot(klist,r_pc_time,marker='o')\n",
    "plt.plot(klist,r_tb_time,marker='o')\n",
    "plt.plot(klist,r_arr_time,marker='o')\n",
    "plt.plot(klist,r_pca_time,marker='o')\n",
    "font_size=18\n",
    "plt.xlabel('Number of features', fontsize=font_size)\n",
    "plt.ylabel('Training time (s)', fontsize=font_size-2)\n",
    "plt.legend(('Univariate','Tree-based',\n",
    "            'ARR','PCA'), loc = 2, shadow=False, fancybox=True, fontsize=font_size-4)\n",
    "plt.tick_params(axis='both', which='major', labelsize=font_size-2)\n",
    "plt.tick_params(axis='both', which='minor', labelsize=font_size-4)\n",
    "\n",
    "x_major_locator=MultipleLocator(5)\n",
    "ax=plt.gca()\n",
    "#ax.xaxis.set_major_locator(x_major_locator)\n",
    "ax.set_xscale(\"log\",basex=2)\n",
    "ax.set_yscale(\"log\",basey=2)\n",
    "ax.set_xticks([1,2,4,8,16,32,64,128,256,512,1024])\n",
    "#ax.set_xlim(0,200)\n",
    "#ax.set_ylim(0,6)\n",
    "\n",
    "plt.grid()\n",
    "plt.savefig(\"./Fig/flash_time.png\",dpi=300,bbox_inches='tight')"
   ]
  },
  {
   "cell_type": "code",
   "execution_count": null,
   "metadata": {},
   "outputs": [],
   "source": []
  },
  {
   "cell_type": "code",
   "execution_count": 39,
   "metadata": {},
   "outputs": [
    {
     "data": {
      "text/plain": [
       "(6805, 1709)"
      ]
     },
     "execution_count": 39,
     "metadata": {},
     "output_type": "execute_result"
    }
   ],
   "source": [
    "X_train_arr.shape"
   ]
  },
  {
   "cell_type": "code",
   "execution_count": 40,
   "metadata": {},
   "outputs": [
    {
     "data": {
      "text/plain": [
       "(2917, 1709)"
      ]
     },
     "execution_count": 40,
     "metadata": {},
     "output_type": "execute_result"
    }
   ],
   "source": [
    "X_test_arr.shape"
   ]
  },
  {
   "cell_type": "code",
   "execution_count": 41,
   "metadata": {},
   "outputs": [
    {
     "name": "stdout",
     "output_type": "stream",
     "text": [
      "[0.11452531814575195, 0.10979127883911133, 0.10921192169189453, 0.10827517509460449, 0.10829615592956543, 0.10889410972595215, 0.20860624313354492, 0.20870256423950195, 0.20844745635986328, 0.20857024192810059, 0.30943799018859863, 0.30872106552124023, 0.30921483039855957, 0.40937256813049316, 0.40981316566467285, 0.4095139503479004, 0.4095480442047119, 0.5094587802886963, 0.509758710861206, 0.5098381042480469, 0.7121121883392334, 0.7111854553222656, 0.9131801128387451, 1.0127735137939453, 1.5170748233795166, 2.2239646911621094, 3.531222105026245, 4.63395619392395, 6.958432912826538, 11.095179557800293]\n",
      "[0.10948705673217773, 0.10822200775146484, 0.1085512638092041, 0.10816693305969238, 0.10825753211975098, 0.20850634574890137, 0.20871329307556152, 0.2087399959564209, 0.20907998085021973, 0.20880556106567383, 0.3091146945953369, 0.30948638916015625, 0.30909132957458496, 0.40970897674560547, 0.4099256992340088, 0.40964245796203613, 0.5098748207092285, 0.509984016418457, 0.5104947090148926, 0.6102843284606934, 0.7106480598449707, 0.8112971782684326, 1.0120899677276611, 1.112701654434204, 1.7147862911224365, 2.2170004844665527, 3.3217084407806396, 3.4217658042907715, 3.421886920928955, 3.421140193939209]\n",
      "[0.11082601547241211, 0.10877037048339844, 0.10839390754699707, 0.10915970802307129, 0.10876321792602539, 0.10828113555908203, 0.10834789276123047, 0.10842561721801758, 0.10850286483764648, 0.10828471183776855, 0.1091620922088623, 0.20961499214172363, 0.3101651668548584, 0.30966877937316895, 0.40953946113586426, 0.4100301265716553, 0.5099406242370605, 0.5098104476928711, 0.6103975772857666, 0.610968828201294, 0.8109314441680908, 1.011878490447998, 1.2124454975128174, 1.4130902290344238, 2.015824556350708, 2.7184338569641113, 3.8231258392333984, 5.029664039611816, 8.750224113464355, 12.578505277633667]\n",
      "[0.10837101936340332, 0.10682463645935059, 0.10710978507995605, 0.20710015296936035, 0.20721793174743652, 0.20721673965454102, 0.20786070823669434, 0.2071366310119629, 0.3076019287109375, 0.30764174461364746, 0.40769004821777344, 0.40831899642944336, 0.5083932876586914, 0.5080893039703369, 0.6085376739501953, 0.6084284782409668, 0.6086287498474121, 0.6085257530212402, 0.7086527347564697, 0.7086799144744873, 0.9094185829162598, 1.1096994876861572, 1.2104995250701904, 1.410897970199585, 2.012394905090332, 2.614110231399536, 3.817741870880127, 4.921299695968628, 10.036597490310669, 22.270755529403687]\n"
     ]
    }
   ],
   "source": [
    "print(r_pc_time)\n",
    "print(r_tb_time)\n",
    "print(r_arr_time)\n",
    "print(r_pca_time)"
   ]
  },
  {
   "cell_type": "code",
   "execution_count": 42,
   "metadata": {},
   "outputs": [
    {
     "name": "stdout",
     "output_type": "stream",
     "text": [
      "[0.01966242727451902, 0.022604057594249792, 0.020674536203741156, 0.02053472092690724, 0.020299915713597322, 0.020210262492725437, 0.02019107602772368, 0.020226513992583437, 0.019789018603888674, 0.019319448797027756, 0.019572317677866664, 0.01952141072170773, 0.020082866193033677, 0.019776553279752505, 0.019638403315889844, 0.019823669719809454, 0.019832932587365768, 0.01962005038991766, 0.019464075166313825, 0.019216156675198, 0.019333417070843288, 0.01962413127746034, 0.01948698586361028, 0.019583935077712875, 0.01952619828516504, 0.019719660319135995, 0.020170935981174823, 0.019388282949859142, 0.01907994797741737, 0.018563775197486358]\n",
      "[0.02016640802024721, 0.021466360277945983, 0.02240561435525657, 0.020834221814860054, 0.020933924299587577, 0.020279510283797257, 0.020008885589301556, 0.01986658665593128, 0.020111753345951004, 0.019503356971947567, 0.019496258590030315, 0.01992369322526285, 0.01935971295472927, 0.019724750159076952, 0.019834445209892606, 0.019967849711986622, 0.019679507151158866, 0.01977124710285743, 0.019674872555103598, 0.019725641735191493, 0.01969177058560658, 0.01954554391811215, 0.019192046730830806, 0.01931393942833031, 0.019203648071269924, 0.01935344079520061, 0.019349913554165224, 0.019146200410054, 0.019146200410054, 0.019146200410054007]\n",
      "[0.03931979298434162, 0.03891931921975141, 0.03845547052548507, 0.038355717961024355, 0.03883419740445599, 0.03898111358870648, 0.03841289383030079, 0.03777572995192357, 0.03757970879004172, 0.03803716394157435, 0.036400385435439504, 0.0224301739819175, 0.022391182919756888, 0.022135224494230735, 0.022134563640330757, 0.021949051012838536, 0.02202603813598378, 0.021406179623737226, 0.021247181697302456, 0.021052591660502662, 0.020997944846679932, 0.02111300082518757, 0.02126741909238032, 0.021166484975144666, 0.02117790234546542, 0.02151662686245496, 0.020558323973763157, 0.020088099017502067, 0.018869244774879602, 0.018593645322525762]\n",
      "[0.024736830203157204, 0.020763985576586496, 0.020330895921895454, 0.020809460484822358, 0.02092536438761992, 0.02063298849741631, 0.020889267429023164, 0.020615716512149572, 0.020590349345632173, 0.020847880786976383, 0.02084582338471931, 0.021012217381152963, 0.02122006008707136, 0.02154188124109061, 0.021460772678849896, 0.02141716171592161, 0.021822294919237754, 0.021333053392860013, 0.02138352879120857, 0.021902632443924857, 0.021557745455016875, 0.021111063341436972, 0.021101053680451103, 0.021254404152090137, 0.02108389721130532, 0.021036669037458912, 0.021072065272662505, 0.021113020728931422, 0.02063101753073213, 0.020048826450677782]\n"
     ]
    }
   ],
   "source": [
    "print(r_pc_nmae)\n",
    "print(r_tb_nmae)\n",
    "print(r_arr_nmae)\n",
    "print(r_pca_nmae)"
   ]
  },
  {
   "cell_type": "code",
   "execution_count": null,
   "metadata": {},
   "outputs": [],
   "source": []
  }
 ],
 "metadata": {
  "environment": {
   "name": "pytorch-gpu.1-6.m59",
   "type": "gcloud",
   "uri": "gcr.io/deeplearning-platform-release/pytorch-gpu.1-6:m59"
  },
  "kernelspec": {
   "display_name": "Python 3",
   "language": "python",
   "name": "python3"
  },
  "language_info": {
   "codemirror_mode": {
    "name": "ipython",
    "version": 3
   },
   "file_extension": ".py",
   "mimetype": "text/x-python",
   "name": "python",
   "nbconvert_exporter": "python",
   "pygments_lexer": "ipython3",
   "version": "3.8.5"
  }
 },
 "nbformat": 4,
 "nbformat_minor": 4
}
