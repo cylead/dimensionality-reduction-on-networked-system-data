{
 "cells": [
  {
   "cell_type": "code",
   "execution_count": 1,
   "metadata": {},
   "outputs": [],
   "source": [
    "import pandas as pd\n",
    "from pandas import DataFrame\n",
    "import numpy as np\n",
    "import matplotlib.pyplot as plt\n",
    "import time\n",
    "from matplotlib.pyplot import MultipleLocator"
   ]
  },
  {
   "cell_type": "code",
   "execution_count": 2,
   "metadata": {},
   "outputs": [],
   "source": [
    "ptrain = pd.read_csv('./Periodic/train.csv')\n",
    "# Drop the time stamp column\n",
    "ptest = pd.read_csv('./Periodic/test.csv')\n",
    "ptrain= ptrain.loc[:, (ptrain != 0).any(axis=0)]"
   ]
  },
  {
   "cell_type": "code",
   "execution_count": 3,
   "metadata": {},
   "outputs": [],
   "source": [
    "pX_train = ptrain.drop([\"TimeStamp\",\"ReadsAvg\",\"WritesAvg\",\"Unnamed: 0\"],1)\n",
    "pX_test = ptest.drop([\"TimeStamp\",\"ReadsAvg\",\"WritesAvg\",\"Unnamed: 0\"],1)\n",
    "pY_train_r = ptrain[\"ReadsAvg\"]\n",
    "pY_test_r = ptest[\"ReadsAvg\"]"
   ]
  },
  {
   "cell_type": "code",
   "execution_count": 4,
   "metadata": {},
   "outputs": [],
   "source": [
    "ftrain = pd.read_csv('./Flash/train.csv')\n",
    "# Drop the time stamp column\n",
    "ftest = pd.read_csv('./Flash/test.csv')\n",
    "ftrain= ftrain.loc[:, (ftrain != 0).any(axis=0)]"
   ]
  },
  {
   "cell_type": "code",
   "execution_count": 5,
   "metadata": {},
   "outputs": [],
   "source": [
    "fX_train = ftrain.drop([\"TimeStamp\",\"ReadsAvg\",\"WritesAvg\",\"Unnamed: 0\"],1)\n",
    "fX_test = ftest.drop([\"TimeStamp\",\"ReadsAvg\",\"WritesAvg\",\"Unnamed: 0\"],1)\n",
    "fY_train_r = ftrain[\"ReadsAvg\"]\n",
    "fY_test_r = ftest[\"ReadsAvg\"]"
   ]
  },
  {
   "cell_type": "markdown",
   "metadata": {},
   "source": [
    "### Read files"
   ]
  },
  {
   "cell_type": "code",
   "execution_count": 6,
   "metadata": {},
   "outputs": [],
   "source": [
    "#  Peridoc Pearson correlation\n",
    "ppc = pd.read_csv('./Periodic/read_p_c.csv')\n",
    "ppc_f= ppc.iloc[0:,0].tolist()\n",
    "pX_train_pc=pX_train[ppc_f]\n",
    "pX_test_pc=pX_test[ppc_f]\n",
    "ppc_nmae=[]\n",
    "ppc_time=[]\n",
    "\n",
    "#  Flash Pearson correlation\n",
    "fpc = pd.read_csv('./Flash/read_p_c.csv')\n",
    "fpc_f= fpc.iloc[0:,0].tolist()\n",
    "fX_train_pc=fX_train[fpc_f]\n",
    "fX_test_pc=fX_test[fpc_f]\n",
    "fpc_nmae=[]\n",
    "fpc_time=[]"
   ]
  },
  {
   "cell_type": "markdown",
   "metadata": {},
   "source": [
    "##### Integreted List"
   ]
  },
  {
   "cell_type": "code",
   "execution_count": 8,
   "metadata": {},
   "outputs": [],
   "source": [
    "ipc_f = list(set(ppc_f).intersection(fpc_f))"
   ]
  },
  {
   "cell_type": "code",
   "execution_count": 9,
   "metadata": {},
   "outputs": [],
   "source": [
    "ipc_f.sort(key= lambda x: ppc_f.index(x)+fpc_f.index(x))"
   ]
  },
  {
   "cell_type": "code",
   "execution_count": 10,
   "metadata": {},
   "outputs": [],
   "source": [
    "ipX_train_pc=pX_train[ipc_f]\n",
    "ipX_test_pc=pX_test[ipc_f]\n",
    "ippc_nmae=[]\n",
    "ippc_time=[]"
   ]
  },
  {
   "cell_type": "code",
   "execution_count": 11,
   "metadata": {},
   "outputs": [],
   "source": [
    "ifX_train_pc=fX_train[ipc_f]\n",
    "ifX_test_pc=fX_test[ipc_f]\n",
    "ifpc_nmae=[]\n",
    "ifpc_time=[]"
   ]
  },
  {
   "cell_type": "markdown",
   "metadata": {},
   "source": [
    "### Testing"
   ]
  },
  {
   "cell_type": "code",
   "execution_count": 12,
   "metadata": {},
   "outputs": [],
   "source": [
    "from sklearn.ensemble import ExtraTreesClassifier, RandomForestClassifier, RandomForestRegressor\n",
    "from sklearn.feature_selection import SelectFromModel\n",
    "from sklearn import linear_model"
   ]
  },
  {
   "cell_type": "code",
   "execution_count": 13,
   "metadata": {},
   "outputs": [],
   "source": [
    "def fit_RF_reg(X,Y,X_test,Y_test):\n",
    "    start_time = time.time()\n",
    "    \n",
    "    rfr = RandomForestRegressor(n_estimators = 10, n_jobs = -1, random_state = 10,verbose = 0)\n",
    "    rfr.fit(X, Y)\n",
    "    \n",
    "    end_time = time.time()\n",
    "    timec=end_time - start_time\n",
    "\n",
    "    NMAE=np.mean(np.abs(rfr.predict(X_test) - Y_test))/np.mean(Y_test)\n",
    "    #R_squared = model_k.score(X,Y)\n",
    "    return NMAE, timec"
   ]
  },
  {
   "cell_type": "code",
   "execution_count": 14,
   "metadata": {},
   "outputs": [],
   "source": [
    "def RF_training_f(klist,X_train_f,Y_train_r,X_test_f,Y_test_r,nmae,training_t):\n",
    "    for k in klist:    \n",
    "        error,timec = fit_RF_reg(X_train_f.iloc[:,0:k],Y_train_r,X_test_f.iloc[:,0:k],Y_test_r)\n",
    "        nmae.append(error)\n",
    "        training_t.append(timec)"
   ]
  },
  {
   "cell_type": "code",
   "execution_count": 15,
   "metadata": {},
   "outputs": [],
   "source": [
    "#klist=[1, 2, 4,8, 10, 12, 14, 16, 18, 20, 22, 24, 26, 28, 30,     32,40,48,56,64,  96,128,192,256,512,1024]\n",
    "klist=[]\n",
    "for k in range(1,10):\n",
    "    klist.append(2**k)"
   ]
  },
  {
   "cell_type": "code",
   "execution_count": 16,
   "metadata": {},
   "outputs": [],
   "source": [
    "ppc_nmae=[]\n",
    "ppc_time=[]\n",
    "RF_training_f(klist,pX_train_pc,pY_train_r,pX_test_pc,\n",
    "              pY_test_r,ppc_nmae,ppc_time)"
   ]
  },
  {
   "cell_type": "code",
   "execution_count": 17,
   "metadata": {},
   "outputs": [],
   "source": [
    "fpc_nmae=[]\n",
    "fpc_time=[]\n",
    "RF_training_f(klist,fX_train_pc,fY_train_r,fX_test_pc,\n",
    "              fY_test_r,fpc_nmae,fpc_time)"
   ]
  },
  {
   "cell_type": "code",
   "execution_count": 18,
   "metadata": {},
   "outputs": [],
   "source": [
    "ippc_nmae=[]\n",
    "ippc_time=[]\n",
    "RF_training_f(klist,ipX_train_pc,pY_train_r,ipX_test_pc,\n",
    "              pY_test_r,ippc_nmae,ippc_time)"
   ]
  },
  {
   "cell_type": "code",
   "execution_count": 19,
   "metadata": {},
   "outputs": [],
   "source": [
    "ifpc_nmae=[]\n",
    "ifpc_time=[]\n",
    "RF_training_f(klist,ifX_train_pc,fY_train_r,ifX_test_pc,\n",
    "              fY_test_r,ifpc_nmae,ifpc_time)"
   ]
  },
  {
   "cell_type": "markdown",
   "metadata": {},
   "source": [
    "### Plot"
   ]
  },
  {
   "cell_type": "code",
   "execution_count": 22,
   "metadata": {},
   "outputs": [
    {
     "name": "stderr",
     "output_type": "stream",
     "text": [
      "<ipython-input-22-1e96d560feb1>:38: MatplotlibDeprecationWarning: The 'basex' parameter of __init__() has been renamed 'base' since Matplotlib 3.3; support for the old name will be dropped two minor releases later.\n",
      "  ax.set_xscale(\"log\",basex=2)\n"
     ]
    },
    {
     "data": {
      "image/png": "[encoded data removed]",
      "text/plain": [
       "<Figure size 576x288 with 2 Axes>"
      ]
     },
     "metadata": {
      "needs_background": "light"
     },
     "output_type": "display_data"
    }
   ],
   "source": [
    "#a=[1, 2,3, 4, 5,6,7,8, 10, 12, 14, 16, 18, 20, 22, 24, 26, 28, 30,     32,40,48,56,64,  96,128,192,256,512,1024]\n",
    "#a = [0,1,3,7,9,11,15,19,21,23,24,25,26,27,28,29]\n",
    "\n",
    "def sortindex(list,indexs):\n",
    "    _ = []\n",
    "    for a in indexs:\n",
    "        _.append(list[a])\n",
    "    return _\n",
    "\n",
    "fig, axes = plt.subplots(nrows=1, ncols=1, figsize=(8, 4))\n",
    "ax = fig.add_axes([0, 0, 1, 1]) \n",
    "#my_xticks=list(range(1, 13))\n",
    "plt.plot(klist,ppc_nmae,marker='o')\n",
    "plt.plot(klist,ippc_nmae,marker='o')\n",
    "plt.plot(klist,fpc_nmae,marker='o')\n",
    "plt.plot(klist,ifpc_nmae,marker='o')\n",
    "# plt.plot(klist,r_arr_nmae,marker='o')\n",
    "# plt.plot(klist,r_pca_nmae,marker='o')\n",
    "#plt.plot(sortindex(klist,a),sortindex(r_pc_nmae,a),marker='o')\n",
    "#plt.plot(sortindex(klist,a),sortindex(r_tb_nmae,a),marker='o')\n",
    "#plt.plot(sortindex(klist,a),sortindex(r_arr_nmae,a),marker='o')\n",
    "#plt.plot(sortindex(klist,a),sortindex(r_pca_nmae,a),marker='o')\n",
    "\n",
    "\n",
    "font_size=18\n",
    "plt.xlabel('Number of features(univariate)', fontsize=font_size)\n",
    "plt.ylabel('NMAE of ReadsAvg', fontsize=font_size-4)\n",
    "plt.legend(('Periodic list','Integrated List on periodic dataset','Flashcrowd list','Integrated List on flashcrowd dataset'), \n",
    "           loc=1, shadow=False, fancybox=True, fontsize=font_size-4)\n",
    "#  bbox_to_anchor=(1.01,1.0), borderaxespad = 0.,\n",
    "plt.tick_params(axis='both', which='major', labelsize=font_size-2)\n",
    "plt.tick_params(axis='both', which='minor', labelsize=font_size-4)\n",
    "\n",
    "#x_major_locator=MultipleLocator(8)\n",
    "ax=plt.gca()\n",
    "#ax.xaxis.set_major_locator(x_major_locator)\n",
    "\n",
    "ax.set_xscale(\"log\",basex=2)\n",
    "#ax.set_xticks([1,2,4,8,16,32,64,128,256,512,1024])\n",
    "#ax.set_ylim(0.021, 0.035)\n",
    "plt.grid()\n",
    "plt.savefig(\"./Fig/pc_i_compare.png\",dpi=300,bbox_inches='tight')"
   ]
  },
  {
   "cell_type": "code",
   "execution_count": null,
   "metadata": {},
   "outputs": [],
   "source": [
    "from matplotlib.pyplot import MultipleLocator\n",
    "fig, axes = plt.subplots(nrows=1, ncols=1, figsize=(8, 4))\n",
    "ax = fig.add_axes([0, 0, 1, 1]) \n",
    "#my_xticks=list(range(1, 13))\n",
    "plt.plot(klist,r_pc_time,marker='o')\n",
    "plt.plot(klist,r_tb_time,marker='o')\n",
    "plt.plot(klist,r_arr_time,marker='o')\n",
    "plt.plot(klist,r_pca_time,marker='o')\n",
    "font_size=18\n",
    "plt.xlabel('Number of features', fontsize=font_size)\n",
    "plt.ylabel('Training time (s)', fontsize=font_size-2)\n",
    "plt.legend(('Univariate','Tree-based',\n",
    "            'ARR','PCA'), loc = 2, shadow=False, fancybox=True, fontsize=font_size-4)\n",
    "plt.tick_params(axis='both', which='major', labelsize=font_size-2)\n",
    "plt.tick_params(axis='both', which='minor', labelsize=font_size-4)\n",
    "\n",
    "x_major_locator=MultipleLocator(5)\n",
    "ax=plt.gca()\n",
    "#ax.xaxis.set_major_locator(x_major_locator)\n",
    "#ax.set_xscale(\"log\",basex=2)\n",
    "#ax.set_yscale(\"log\",basey=2)\n",
    "#ax.set_xticks([1,2,4,8,16,32,64,128,256,512,1024])\n",
    "ax.set_xlim(0,200)\n",
    "ax.set_ylim(0,6)\n",
    "\n",
    "plt.grid()\n",
    "plt.savefig(\"./Fig/periodic_time1.png\",dpi=300,bbox_inches='tight')"
   ]
  },
  {
   "cell_type": "code",
   "execution_count": null,
   "metadata": {},
   "outputs": [],
   "source": []
  },
  {
   "cell_type": "code",
   "execution_count": 86,
   "metadata": {},
   "outputs": [
    {
     "data": {
      "text/plain": [
       "(10136, 1746)"
      ]
     },
     "execution_count": 86,
     "metadata": {},
     "output_type": "execute_result"
    }
   ],
   "source": [
    "X_train_arr.shape"
   ]
  },
  {
   "cell_type": "code",
   "execution_count": 87,
   "metadata": {},
   "outputs": [
    {
     "data": {
      "text/plain": [
       "(4345, 1746)"
      ]
     },
     "execution_count": 87,
     "metadata": {},
     "output_type": "execute_result"
    }
   ],
   "source": [
    "X_test_arr.shape"
   ]
  },
  {
   "cell_type": "code",
   "execution_count": 154,
   "metadata": {},
   "outputs": [
    {
     "name": "stdout",
     "output_type": "stream",
     "text": [
      "[0.11025094985961914, 0.1082301139831543, 0.10823488235473633, 0.20908141136169434, 0.20855498313903809, 0.20871615409851074, 0.20869970321655273, 0.308868408203125, 0.3095700740814209, 0.40948486328125, 0.4098384380340576, 0.5100200176239014, 0.5096621513366699, 0.6101195812225342, 0.7109758853912354, 0.7108662128448486, 0.8107385635375977, 0.8110721111297607, 0.911362886428833, 0.9114270210266113, 1.1128308773040771, 1.31304931640625, 1.6141669750213623, 1.7144603729248047, 2.61845326423645, 3.4223780632019043, 4.827849626541138, 6.042173147201538, 9.280692338943481, 15.102791786193848]\n",
      "[0.10915637016296387, 0.10806560516357422, 0.2085425853729248, 0.2087094783782959, 0.20837640762329102, 0.20828723907470703, 0.30906009674072266, 0.3091254234313965, 0.4091644287109375, 0.4091935157775879, 0.509434700012207, 0.6099522113800049, 0.6097030639648438, 0.7102608680725098, 0.7101824283599854, 0.8104884624481201, 0.810936450958252, 0.8108189105987549, 0.9118568897247314, 0.9116325378417969, 1.212773323059082, 1.312648057937622, 1.613570213317871, 1.8145756721496582, 2.6180202960968018, 3.3211312294006348, 4.626260757446289, 4.826933860778809, 4.826691627502441, 4.726948022842407]\n",
      "[0.11048316955566406, 0.10795831680297852, 0.10831880569458008, 0.10843563079833984, 0.10843563079833984, 0.10837388038635254, 0.10823297500610352, 0.10831904411315918, 0.108642578125, 0.10873055458068848, 0.1085367202758789, 0.10879659652709961, 0.10877299308776855, 0.20920681953430176, 0.2090768814086914, 0.3096580505371094, 0.3099856376647949, 0.410275936126709, 0.5102062225341797, 0.5104937553405762, 0.8116986751556396, 1.0122101306915283, 1.2134110927581787, 1.4135468006134033, 2.417682647705078, 3.321726083755493, 4.525531053543091, 6.232040166854858, 10.960148572921753, 15.704745769500732]\n",
      "[0.11068534851074219, 0.10703325271606445, 0.10720109939575195, 0.20750713348388672, 0.2075192928314209, 0.20719432830810547, 0.20731353759765625, 0.3075892925262451, 0.3075852394104004, 0.40808939933776855, 0.4079930782318115, 0.5084645748138428, 0.5082168579101562, 0.6087267398834229, 0.6086773872375488, 0.6084585189819336, 0.7092576026916504, 0.7088451385498047, 0.8092441558837891, 0.8091366291046143, 1.110116958618164, 1.3108208179473877, 1.51151442527771, 1.712052345275879, 2.4143178462982178, 3.2164883613586426, 4.721141815185547, 6.2258620262146, 12.345088481903076, 25.592973709106445]\n"
     ]
    }
   ],
   "source": [
    "print(r_pc_time)\n",
    "print(r_tb_time)\n",
    "print(r_arr_time)\n",
    "print(r_pca_time)"
   ]
  },
  {
   "cell_type": "code",
   "execution_count": 114,
   "metadata": {},
   "outputs": [
    {
     "name": "stderr",
     "output_type": "stream",
     "text": [
      "/opt/conda/lib/python3.7/site-packages/ipykernel_launcher.py:24: MatplotlibDeprecationWarning: The 'basex' parameter of __init__() has been renamed 'base' since Matplotlib 3.3; support for the old name will be dropped two minor releases later.\n",
      "/opt/conda/lib/python3.7/site-packages/ipykernel_launcher.py:25: MatplotlibDeprecationWarning: The 'basey' parameter of __init__() has been renamed 'base' since Matplotlib 3.3; support for the old name will be dropped two minor releases later.\n"
     ]
    },
    {
     "data": {
      "image/png": "[encoded data removed]",
      "text/plain": [
       "<Figure size 576x288 with 2 Axes>"
      ]
     },
     "metadata": {
      "needs_background": "light"
     },
     "output_type": "display_data"
    }
   ],
   "source": [
    "y = np.sqrt(klist)/5 \n",
    "y2 = [_**(0.3)-1.9 for _ in klist]\n",
    "from matplotlib.pyplot import MultipleLocator\n",
    "fig, axes = plt.subplots(nrows=1, ncols=1, figsize=(8, 4))\n",
    "ax = fig.add_axes([0, 0, 1, 1]) \n",
    "#my_xticks=list(range(1, 13))\n",
    "plt.plot(klist,r_pc_time,marker='o')\n",
    "#plt.plot(klist,y,marker='o')\n",
    "plt.plot(klist,y2,marker='o')\n",
    "# plt.plot(klist,r_tb_time,marker='o')\n",
    "# plt.plot(klist,r_arr_time,marker='o')\n",
    "# plt.plot(klist,r_pca_time,marker='o')\n",
    "font_size=18\n",
    "plt.xlabel('Number of features', fontsize=font_size)\n",
    "plt.ylabel('Training time (s)', fontsize=font_size-2)\n",
    "#plt.legend(('Univariate','Tree-based',\n",
    "#            'ARR','PCA'), loc = 2, shadow=False, fancybox=True, fontsize=font_size-4)\n",
    "plt.tick_params(axis='both', which='major', labelsize=font_size-2)\n",
    "plt.tick_params(axis='both', which='minor', labelsize=font_size-4)\n",
    "\n",
    "x_major_locator=MultipleLocator(5)\n",
    "ax=plt.gca()\n",
    "ax.xaxis.set_major_locator(x_major_locator)\n",
    "ax.set_xscale(\"log\",basex=2)\n",
    "ax.set_yscale(\"log\",basey=2)\n",
    "plt.grid()\n",
    "#plt.savefig(\"./Fig/periodic_time.png\",dpi=300,bbox_inches='tight')"
   ]
  },
  {
   "cell_type": "code",
   "execution_count": 155,
   "metadata": {},
   "outputs": [
    {
     "name": "stdout",
     "output_type": "stream",
     "text": [
      "[0.02688426717409696, 0.02984268461519349, 0.025493544932640083, 0.025319259850260286, 0.025077256468138603, 0.02518787797931604, 0.024701703373378667, 0.024775847785562903, 0.025019769258031444, 0.024789913863662763, 0.024399296137638686, 0.024274376145996528, 0.02427880955102306, 0.024392776825804364, 0.024560707781685464, 0.02430176365262376, 0.02454773127724111, 0.024285201993284128, 0.024092596138741918, 0.02406062562294787, 0.024498156477594225, 0.023719229303553215, 0.023665173409733623, 0.023353230647000057, 0.02310143721762286, 0.023169676603508865, 0.023024969316238028, 0.022975019786791975, 0.02263993578367048, 0.022542296162522124]\n",
      "[0.03155552253173212, 0.02856750790694559, 0.02764167958046594, 0.027137577144485954, 0.02703547862928472, 0.02685659298319877, 0.02695131665972863, 0.026925653321291154, 0.027208505211542448, 0.027373443139055834, 0.027216951493771416, 0.02696336733695661, 0.026834765249896378, 0.0269486810121776, 0.026597417685112396, 0.026616565493958112, 0.0242022033511145, 0.024459624428627143, 0.02445220576527477, 0.024339490947249753, 0.02405031247509279, 0.02368352369983295, 0.023503800081448974, 0.023610428407752404, 0.02320512517917593, 0.023178167327088692, 0.022805036018726122, 0.022837133568538656, 0.022837133568538656, 0.022837133568538653]\n",
      "[0.04395548666179423, 0.04379728440981602, 0.04421594723896672, 0.044663663660146936, 0.044964430205809786, 0.04507792763919687, 0.045269109325519065, 0.045744175979669864, 0.04552546592407545, 0.04588602142659209, 0.04606612035099271, 0.04639620947594953, 0.04608601764847048, 0.04510995880898269, 0.04538758398309745, 0.027404008428380658, 0.026843066409120413, 0.027013997135627913, 0.026690392033316596, 0.026184324064511502, 0.02615274607972389, 0.025494932933460755, 0.025529530997873206, 0.025867684126439666, 0.02529395385152809, 0.02519011114691811, 0.02428838343489028, 0.024062002112595432, 0.022503359948041403, 0.022570107485879874]\n",
      "[0.03352733518485046, 0.027262245986995334, 0.025666071683312565, 0.02594523543477988, 0.02568614116713028, 0.02543719260087721, 0.025811542325812436, 0.025658007325366043, 0.025673557851473506, 0.02644078539795798, 0.026766878517023848, 0.02653789398401955, 0.02755996089853445, 0.026852811727245733, 0.027414679450388446, 0.027084722112699817, 0.027952599205458235, 0.02831685868818529, 0.027291498920352025, 0.027061279361796593, 0.027048447404798632, 0.026904480080408376, 0.02707419444590968, 0.0270630417224145, 0.02682366827336873, 0.02727896559607604, 0.02743382742367966, 0.0269916513995313, 0.026904699080478465, 0.026269666998215924]\n"
     ]
    }
   ],
   "source": [
    "print(r_pc_nmae)\n",
    "print(r_tb_nmae)\n",
    "print(r_arr_nmae)\n",
    "print(r_pca_nmae)"
   ]
  },
  {
   "cell_type": "code",
   "execution_count": null,
   "metadata": {},
   "outputs": [],
   "source": [
    "# [1, 2,3, 4, 5,6,7,8, 10, 12, 14, 16, 18, 20, 22, 24, 26, 28, 30,     32,40,48,56,64,  96,128,192,256,512,1024]"
   ]
  }
 ],
 "metadata": {
  "environment": {
   "name": "pytorch-gpu.1-6.m59",
   "type": "gcloud",
   "uri": "gcr.io/deeplearning-platform-release/pytorch-gpu.1-6:m59"
  },
  "kernelspec": {
   "display_name": "Python 3",
   "language": "python",
   "name": "python3"
  },
  "language_info": {
   "codemirror_mode": {
    "name": "ipython",
    "version": 3
   },
   "file_extension": ".py",
   "mimetype": "text/x-python",
   "name": "python",
   "nbconvert_exporter": "python",
   "pygments_lexer": "ipython3",
   "version": "3.8.5"
  }
 },
 "nbformat": 4,
 "nbformat_minor": 4
}
