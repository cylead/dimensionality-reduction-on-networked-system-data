{
 "cells": [
  {
   "cell_type": "markdown",
   "metadata": {},
   "source": [
    "import pandas as pd\n",
    "from pandas import DataFrame\n",
    "import numpy as np\n",
    "import matplotlib.pyplot as plt\n",
    "import time\n",
    "from matplotlib.pyplot import MultipleLocator"
   ]
  },
  {
   "cell_type": "code",
   "execution_count": 1,
   "metadata": {},
   "outputs": [],
   "source": [
    "import pandas as pd\n",
    "from pandas import DataFrame\n",
    "import numpy as np\n",
    "import matplotlib.pyplot as plt\n",
    "import time\n",
    "from matplotlib.pyplot import MultipleLocator\n",
    "\n",
    "from sklearn.ensemble import ExtraTreesClassifier, RandomForestClassifier, RandomForestRegressor\n",
    "from sklearn.feature_selection import SelectFromModel\n",
    "from sklearn import linear_model\n",
    "from sklearn.decomposition import PCA"
   ]
  },
  {
   "cell_type": "code",
   "execution_count": 3,
   "metadata": {},
   "outputs": [],
   "source": [
    "train = pd.read_csv('./Periodic/train.csv')\n",
    "# Drop the time stamp column\n",
    "test = pd.read_csv('./Periodic/test.csv')\n",
    "train= train.loc[:, (train != 0).any(axis=0)]\n",
    "#test=???"
   ]
  },
  {
   "cell_type": "code",
   "execution_count": 4,
   "metadata": {
    "scrolled": true
   },
   "outputs": [
    {
     "data": {
      "text/html": [
       "<div>\n",
       "<style scoped>\n",
       "    .dataframe tbody tr th:only-of-type {\n",
       "        vertical-align: middle;\n",
       "    }\n",
       "\n",
       "    .dataframe tbody tr th {\n",
       "        vertical-align: top;\n",
       "    }\n",
       "\n",
       "    .dataframe thead th {\n",
       "        text-align: right;\n",
       "    }\n",
       "</style>\n",
       "<table border=\"1\" class=\"dataframe\">\n",
       "  <thead>\n",
       "    <tr style=\"text-align: right;\">\n",
       "      <th></th>\n",
       "      <th>Unnamed: 0</th>\n",
       "      <th>TimeStamp</th>\n",
       "      <th>0_all_..usr</th>\n",
       "      <th>0_all_..sys</th>\n",
       "      <th>0_all_..iowait</th>\n",
       "      <th>0_all_..soft</th>\n",
       "      <th>0_all_..idle</th>\n",
       "      <th>0_cpu0_.usr</th>\n",
       "      <th>0_cpu0_.sys</th>\n",
       "      <th>0_cpu0_.iowait</th>\n",
       "      <th>...</th>\n",
       "      <th>40_RxPacktes.1</th>\n",
       "      <th>40_TxPacktes.1</th>\n",
       "      <th>40_RxBytes.1</th>\n",
       "      <th>40_TxBytes.1</th>\n",
       "      <th>41_RxPacktes.1</th>\n",
       "      <th>41_TxPacktes.1</th>\n",
       "      <th>41_RxBytes.1</th>\n",
       "      <th>41_TxBytes.1</th>\n",
       "      <th>ReadsAvg</th>\n",
       "      <th>WritesAvg</th>\n",
       "    </tr>\n",
       "  </thead>\n",
       "  <tbody>\n",
       "    <tr>\n",
       "      <th>0</th>\n",
       "      <td>0</td>\n",
       "      <td>2016-11-20 07:13:51</td>\n",
       "      <td>2.23</td>\n",
       "      <td>0.55</td>\n",
       "      <td>0.42</td>\n",
       "      <td>0.08</td>\n",
       "      <td>96.72</td>\n",
       "      <td>2.02</td>\n",
       "      <td>0.00</td>\n",
       "      <td>1.01</td>\n",
       "      <td>...</td>\n",
       "      <td>296</td>\n",
       "      <td>365</td>\n",
       "      <td>174976</td>\n",
       "      <td>193695</td>\n",
       "      <td>367</td>\n",
       "      <td>296</td>\n",
       "      <td>121659</td>\n",
       "      <td>293712</td>\n",
       "      <td>73.8254</td>\n",
       "      <td>175.5445</td>\n",
       "    </tr>\n",
       "    <tr>\n",
       "      <th>1</th>\n",
       "      <td>3</td>\n",
       "      <td>2016-11-20 07:14:02</td>\n",
       "      <td>3.35</td>\n",
       "      <td>0.75</td>\n",
       "      <td>2.76</td>\n",
       "      <td>0.17</td>\n",
       "      <td>92.97</td>\n",
       "      <td>3.92</td>\n",
       "      <td>0.98</td>\n",
       "      <td>0.98</td>\n",
       "      <td>...</td>\n",
       "      <td>2957</td>\n",
       "      <td>3579</td>\n",
       "      <td>1619376</td>\n",
       "      <td>2006284</td>\n",
       "      <td>3565</td>\n",
       "      <td>2927</td>\n",
       "      <td>1286837</td>\n",
       "      <td>2663940</td>\n",
       "      <td>56.9347</td>\n",
       "      <td>108.4472</td>\n",
       "    </tr>\n",
       "    <tr>\n",
       "      <th>2</th>\n",
       "      <td>6</td>\n",
       "      <td>2016-11-20 07:14:05</td>\n",
       "      <td>3.89</td>\n",
       "      <td>0.96</td>\n",
       "      <td>3.43</td>\n",
       "      <td>0.13</td>\n",
       "      <td>91.58</td>\n",
       "      <td>0.00</td>\n",
       "      <td>0.00</td>\n",
       "      <td>4.12</td>\n",
       "      <td>...</td>\n",
       "      <td>2719</td>\n",
       "      <td>3464</td>\n",
       "      <td>1521516</td>\n",
       "      <td>2071803</td>\n",
       "      <td>3463</td>\n",
       "      <td>2740</td>\n",
       "      <td>1311750</td>\n",
       "      <td>2596759</td>\n",
       "      <td>58.3944</td>\n",
       "      <td>107.6670</td>\n",
       "    </tr>\n",
       "    <tr>\n",
       "      <th>3</th>\n",
       "      <td>8</td>\n",
       "      <td>2016-11-20 07:14:10</td>\n",
       "      <td>1.46</td>\n",
       "      <td>0.63</td>\n",
       "      <td>1.80</td>\n",
       "      <td>0.13</td>\n",
       "      <td>95.99</td>\n",
       "      <td>1.02</td>\n",
       "      <td>0.00</td>\n",
       "      <td>2.04</td>\n",
       "      <td>...</td>\n",
       "      <td>5081</td>\n",
       "      <td>6497</td>\n",
       "      <td>1949522</td>\n",
       "      <td>2803562</td>\n",
       "      <td>6486</td>\n",
       "      <td>5090</td>\n",
       "      <td>1819787</td>\n",
       "      <td>2839599</td>\n",
       "      <td>59.4581</td>\n",
       "      <td>120.0390</td>\n",
       "    </tr>\n",
       "    <tr>\n",
       "      <th>4</th>\n",
       "      <td>9</td>\n",
       "      <td>2016-11-20 07:14:11</td>\n",
       "      <td>0.75</td>\n",
       "      <td>0.25</td>\n",
       "      <td>1.05</td>\n",
       "      <td>0.04</td>\n",
       "      <td>97.91</td>\n",
       "      <td>1.00</td>\n",
       "      <td>0.00</td>\n",
       "      <td>0.00</td>\n",
       "      <td>...</td>\n",
       "      <td>3951</td>\n",
       "      <td>4591</td>\n",
       "      <td>1854630</td>\n",
       "      <td>2411463</td>\n",
       "      <td>4590</td>\n",
       "      <td>3951</td>\n",
       "      <td>1545479</td>\n",
       "      <td>3048829</td>\n",
       "      <td>55.9895</td>\n",
       "      <td>114.3459</td>\n",
       "    </tr>\n",
       "    <tr>\n",
       "      <th>...</th>\n",
       "      <td>...</td>\n",
       "      <td>...</td>\n",
       "      <td>...</td>\n",
       "      <td>...</td>\n",
       "      <td>...</td>\n",
       "      <td>...</td>\n",
       "      <td>...</td>\n",
       "      <td>...</td>\n",
       "      <td>...</td>\n",
       "      <td>...</td>\n",
       "      <td>...</td>\n",
       "      <td>...</td>\n",
       "      <td>...</td>\n",
       "      <td>...</td>\n",
       "      <td>...</td>\n",
       "      <td>...</td>\n",
       "      <td>...</td>\n",
       "      <td>...</td>\n",
       "      <td>...</td>\n",
       "      <td>...</td>\n",
       "      <td>...</td>\n",
       "    </tr>\n",
       "    <tr>\n",
       "      <th>10131</th>\n",
       "      <td>28955</td>\n",
       "      <td>2016-11-20 19:42:03</td>\n",
       "      <td>0.08</td>\n",
       "      <td>0.08</td>\n",
       "      <td>0.00</td>\n",
       "      <td>0.00</td>\n",
       "      <td>99.83</td>\n",
       "      <td>0.00</td>\n",
       "      <td>0.00</td>\n",
       "      <td>0.00</td>\n",
       "      <td>...</td>\n",
       "      <td>934</td>\n",
       "      <td>1361</td>\n",
       "      <td>489817</td>\n",
       "      <td>541623</td>\n",
       "      <td>1369</td>\n",
       "      <td>934</td>\n",
       "      <td>440170</td>\n",
       "      <td>605657</td>\n",
       "      <td>53.6099</td>\n",
       "      <td>105.9537</td>\n",
       "    </tr>\n",
       "    <tr>\n",
       "      <th>10132</th>\n",
       "      <td>28956</td>\n",
       "      <td>2016-11-20 19:42:05</td>\n",
       "      <td>0.17</td>\n",
       "      <td>0.04</td>\n",
       "      <td>0.00</td>\n",
       "      <td>0.00</td>\n",
       "      <td>99.79</td>\n",
       "      <td>0.00</td>\n",
       "      <td>0.00</td>\n",
       "      <td>0.00</td>\n",
       "      <td>...</td>\n",
       "      <td>274</td>\n",
       "      <td>345</td>\n",
       "      <td>187430</td>\n",
       "      <td>154210</td>\n",
       "      <td>346</td>\n",
       "      <td>274</td>\n",
       "      <td>97798</td>\n",
       "      <td>310510</td>\n",
       "      <td>55.5818</td>\n",
       "      <td>109.0576</td>\n",
       "    </tr>\n",
       "    <tr>\n",
       "      <th>10133</th>\n",
       "      <td>28957</td>\n",
       "      <td>2016-11-20 19:42:06</td>\n",
       "      <td>0.13</td>\n",
       "      <td>0.21</td>\n",
       "      <td>0.04</td>\n",
       "      <td>0.00</td>\n",
       "      <td>99.62</td>\n",
       "      <td>0.00</td>\n",
       "      <td>0.00</td>\n",
       "      <td>1.01</td>\n",
       "      <td>...</td>\n",
       "      <td>291</td>\n",
       "      <td>389</td>\n",
       "      <td>179191</td>\n",
       "      <td>196811</td>\n",
       "      <td>389</td>\n",
       "      <td>291</td>\n",
       "      <td>122963</td>\n",
       "      <td>296479</td>\n",
       "      <td>55.6183</td>\n",
       "      <td>107.0251</td>\n",
       "    </tr>\n",
       "    <tr>\n",
       "      <th>10134</th>\n",
       "      <td>28958</td>\n",
       "      <td>2016-11-20 19:42:12</td>\n",
       "      <td>0.04</td>\n",
       "      <td>0.13</td>\n",
       "      <td>0.04</td>\n",
       "      <td>0.00</td>\n",
       "      <td>99.79</td>\n",
       "      <td>0.00</td>\n",
       "      <td>0.00</td>\n",
       "      <td>1.00</td>\n",
       "      <td>...</td>\n",
       "      <td>296</td>\n",
       "      <td>369</td>\n",
       "      <td>196312</td>\n",
       "      <td>175558</td>\n",
       "      <td>375</td>\n",
       "      <td>305</td>\n",
       "      <td>110806</td>\n",
       "      <td>332621</td>\n",
       "      <td>52.6730</td>\n",
       "      <td>104.5830</td>\n",
       "    </tr>\n",
       "    <tr>\n",
       "      <th>10135</th>\n",
       "      <td>28960</td>\n",
       "      <td>2016-11-20 19:42:36</td>\n",
       "      <td>0.04</td>\n",
       "      <td>0.08</td>\n",
       "      <td>0.00</td>\n",
       "      <td>0.00</td>\n",
       "      <td>99.87</td>\n",
       "      <td>0.00</td>\n",
       "      <td>0.00</td>\n",
       "      <td>1.00</td>\n",
       "      <td>...</td>\n",
       "      <td>310</td>\n",
       "      <td>429</td>\n",
       "      <td>172716</td>\n",
       "      <td>236146</td>\n",
       "      <td>430</td>\n",
       "      <td>310</td>\n",
       "      <td>147908</td>\n",
       "      <td>284212</td>\n",
       "      <td>52.1671</td>\n",
       "      <td>103.8954</td>\n",
       "    </tr>\n",
       "  </tbody>\n",
       "</table>\n",
       "<p>10136 rows × 1746 columns</p>\n",
       "</div>"
      ],
      "text/plain": [
       "       Unnamed: 0            TimeStamp  0_all_..usr  0_all_..sys  \\\n",
       "0               0  2016-11-20 07:13:51         2.23         0.55   \n",
       "1               3  2016-11-20 07:14:02         3.35         0.75   \n",
       "2               6  2016-11-20 07:14:05         3.89         0.96   \n",
       "3               8  2016-11-20 07:14:10         1.46         0.63   \n",
       "4               9  2016-11-20 07:14:11         0.75         0.25   \n",
       "...           ...                  ...          ...          ...   \n",
       "10131       28955  2016-11-20 19:42:03         0.08         0.08   \n",
       "10132       28956  2016-11-20 19:42:05         0.17         0.04   \n",
       "10133       28957  2016-11-20 19:42:06         0.13         0.21   \n",
       "10134       28958  2016-11-20 19:42:12         0.04         0.13   \n",
       "10135       28960  2016-11-20 19:42:36         0.04         0.08   \n",
       "\n",
       "       0_all_..iowait  0_all_..soft  0_all_..idle  0_cpu0_.usr  0_cpu0_.sys  \\\n",
       "0                0.42          0.08         96.72         2.02         0.00   \n",
       "1                2.76          0.17         92.97         3.92         0.98   \n",
       "2                3.43          0.13         91.58         0.00         0.00   \n",
       "3                1.80          0.13         95.99         1.02         0.00   \n",
       "4                1.05          0.04         97.91         1.00         0.00   \n",
       "...               ...           ...           ...          ...          ...   \n",
       "10131            0.00          0.00         99.83         0.00         0.00   \n",
       "10132            0.00          0.00         99.79         0.00         0.00   \n",
       "10133            0.04          0.00         99.62         0.00         0.00   \n",
       "10134            0.04          0.00         99.79         0.00         0.00   \n",
       "10135            0.00          0.00         99.87         0.00         0.00   \n",
       "\n",
       "       0_cpu0_.iowait  ...  40_RxPacktes.1  40_TxPacktes.1  40_RxBytes.1  \\\n",
       "0                1.01  ...             296             365        174976   \n",
       "1                0.98  ...            2957            3579       1619376   \n",
       "2                4.12  ...            2719            3464       1521516   \n",
       "3                2.04  ...            5081            6497       1949522   \n",
       "4                0.00  ...            3951            4591       1854630   \n",
       "...               ...  ...             ...             ...           ...   \n",
       "10131            0.00  ...             934            1361        489817   \n",
       "10132            0.00  ...             274             345        187430   \n",
       "10133            1.01  ...             291             389        179191   \n",
       "10134            1.00  ...             296             369        196312   \n",
       "10135            1.00  ...             310             429        172716   \n",
       "\n",
       "       40_TxBytes.1  41_RxPacktes.1  41_TxPacktes.1  41_RxBytes.1  \\\n",
       "0            193695             367             296        121659   \n",
       "1           2006284            3565            2927       1286837   \n",
       "2           2071803            3463            2740       1311750   \n",
       "3           2803562            6486            5090       1819787   \n",
       "4           2411463            4590            3951       1545479   \n",
       "...             ...             ...             ...           ...   \n",
       "10131        541623            1369             934        440170   \n",
       "10132        154210             346             274         97798   \n",
       "10133        196811             389             291        122963   \n",
       "10134        175558             375             305        110806   \n",
       "10135        236146             430             310        147908   \n",
       "\n",
       "       41_TxBytes.1  ReadsAvg  WritesAvg  \n",
       "0            293712   73.8254   175.5445  \n",
       "1           2663940   56.9347   108.4472  \n",
       "2           2596759   58.3944   107.6670  \n",
       "3           2839599   59.4581   120.0390  \n",
       "4           3048829   55.9895   114.3459  \n",
       "...             ...       ...        ...  \n",
       "10131        605657   53.6099   105.9537  \n",
       "10132        310510   55.5818   109.0576  \n",
       "10133        296479   55.6183   107.0251  \n",
       "10134        332621   52.6730   104.5830  \n",
       "10135        284212   52.1671   103.8954  \n",
       "\n",
       "[10136 rows x 1746 columns]"
      ]
     },
     "execution_count": 4,
     "metadata": {},
     "output_type": "execute_result"
    }
   ],
   "source": [
    "train"
   ]
  },
  {
   "cell_type": "code",
   "execution_count": 5,
   "metadata": {},
   "outputs": [],
   "source": [
    "train_ = train.drop(\"TimeStamp\",1)\n",
    "test_= train.drop(\"TimeStamp\",1)"
   ]
  },
  {
   "cell_type": "code",
   "execution_count": 6,
   "metadata": {},
   "outputs": [],
   "source": [
    "# Extract X,Y components from test and train sets\n",
    "X_train = train.drop(\"TimeStamp\",1)\n",
    "X_train = X_train.drop(\"ReadsAvg\",1)\n",
    "X_train = X_train.drop(\"WritesAvg\",1)\n",
    "X_test = test.drop(\"TimeStamp\",1)\n",
    "X_test = X_test.drop(\"ReadsAvg\",1)\n",
    "X_test = X_test.drop(\"WritesAvg\",1)\n",
    "Y_train_r = train[\"ReadsAvg\"]\n",
    "#Y_train_w = train[\"WritesAvg\"]\n",
    "Y_test_r = test[\"ReadsAvg\"]\n",
    "#Y_test_w = test[\"WritesAvg\"]"
   ]
  },
  {
   "cell_type": "code",
   "execution_count": 7,
   "metadata": {},
   "outputs": [],
   "source": [
    "### generate PCA"
   ]
  },
  {
   "cell_type": "code",
   "execution_count": 8,
   "metadata": {},
   "outputs": [],
   "source": [
    "from sklearn.decomposition import PCA\n",
    "from sklearn.preprocessing import StandardScaler\n",
    "\n",
    "\n",
    "\n",
    "X_train_r= StandardScaler().fit_transform(X_train)\n",
    "X_test_r = StandardScaler().fit_transform(X_test)\n",
    "X_train_pca = pca.fit_transform(X_train_r)[:,:]\n",
    "X_test_pca= pca.fit_transform(X_test_r)[:,:]"
   ]
  },
  {
   "cell_type": "code",
   "execution_count": 18,
   "metadata": {},
   "outputs": [
    {
     "data": {
      "text/plain": [
       "[1.0372276306152344,\n",
       " 1.1248080730438232,\n",
       " 1.024261713027954,\n",
       " 1.0611612796783447,\n",
       " 1.1692614555358887,\n",
       " 1.4422893524169922,\n",
       " 1.9639332294464111,\n",
       " 3.1107635498046875,\n",
       " 3.71885085105896,\n",
       " 8.80467438697815,\n",
       " 18.104601860046387]"
      ]
     },
     "execution_count": 18,
     "metadata": {},
     "output_type": "execute_result"
    }
   ],
   "source": [
    "pca_time=[]\n",
    "klist=[1,2,4,8,16,32,64,128,256,512,1024]\n",
    "for k in klist:\n",
    "    time_start=time.time()\n",
    "    pca = PCA(n_components=k)\n",
    "    X_train_pca = pca.fit_transform(X_train_r)[:,:]\n",
    "    X_test_pca= pca.fit_transform(X_test_r)[:,:]\n",
    "    time_end=time.time()\n",
    "    pca_time.append(time_end-time_start)\n",
    "pca_time"
   ]
  },
  {
   "cell_type": "code",
   "execution_count": 20,
   "metadata": {},
   "outputs": [
    {
     "data": {
      "text/plain": [
       "array([[ 14.7146984 ],\n",
       "       [ 10.02519409],\n",
       "       [ 14.08897384],\n",
       "       ...,\n",
       "       [-40.03341619],\n",
       "       [-42.86843453],\n",
       "       [-43.51130637]])"
      ]
     },
     "execution_count": 20,
     "metadata": {},
     "output_type": "execute_result"
    }
   ],
   "source": [
    "pca = PCA(n_components=1)\n",
    "X_train_pca = pca.fit_transform(X_train_r)[:,:]\n",
    "X_test_pca= pca.fit_transform(X_test_r)[:,:]\n",
    "X_train_pca"
   ]
  },
  {
   "cell_type": "code",
   "execution_count": 21,
   "metadata": {},
   "outputs": [
    {
     "data": {
      "text/plain": [
       "array([[ 14.71469804,  37.58958985],\n",
       "       [ 10.02519475,  23.63878252],\n",
       "       [ 14.08897484,  24.30241419],\n",
       "       ...,\n",
       "       [-40.03341614, -14.10013039],\n",
       "       [-42.86843451, -13.74095742],\n",
       "       [-43.51130636, -14.04605696]])"
      ]
     },
     "execution_count": 21,
     "metadata": {},
     "output_type": "execute_result"
    }
   ],
   "source": [
    "pca = PCA(n_components=2)\n",
    "X_train_pca = pca.fit_transform(X_train_r)[:,:]\n",
    "X_test_pca= pca.fit_transform(X_test_r)[:,:]\n",
    "X_train_pca"
   ]
  },
  {
   "cell_type": "markdown",
   "metadata": {},
   "source": [
    "### Read files"
   ]
  },
  {
   "cell_type": "code",
   "execution_count": 2,
   "metadata": {},
   "outputs": [
    {
     "ename": "NameError",
     "evalue": "name 'X_train' is not defined",
     "output_type": "error",
     "traceback": [
      "\u001b[1;31m---------------------------------------------------------------------------\u001b[0m",
      "\u001b[1;31mNameError\u001b[0m                                 Traceback (most recent call last)",
      "\u001b[1;32m<ipython-input-2-5adadac74e32>\u001b[0m in \u001b[0;36m<module>\u001b[1;34m\u001b[0m\n\u001b[0;32m      2\u001b[0m \u001b[0mpc\u001b[0m \u001b[1;33m=\u001b[0m \u001b[0mpd\u001b[0m\u001b[1;33m.\u001b[0m\u001b[0mread_csv\u001b[0m\u001b[1;33m(\u001b[0m\u001b[1;34m'./Periodic/read_p_c.csv'\u001b[0m\u001b[1;33m)\u001b[0m\u001b[1;33m\u001b[0m\u001b[1;33m\u001b[0m\u001b[0m\n\u001b[0;32m      3\u001b[0m \u001b[0mpc_f\u001b[0m\u001b[1;33m=\u001b[0m \u001b[0mpc\u001b[0m\u001b[1;33m.\u001b[0m\u001b[0miloc\u001b[0m\u001b[1;33m[\u001b[0m\u001b[1;36m2\u001b[0m\u001b[1;33m:\u001b[0m\u001b[1;33m,\u001b[0m\u001b[1;36m0\u001b[0m\u001b[1;33m]\u001b[0m\u001b[1;33m.\u001b[0m\u001b[0mtolist\u001b[0m\u001b[1;33m(\u001b[0m\u001b[1;33m)\u001b[0m\u001b[1;33m\u001b[0m\u001b[1;33m\u001b[0m\u001b[0m\n\u001b[1;32m----> 4\u001b[1;33m \u001b[0mX_train_pc\u001b[0m\u001b[1;33m=\u001b[0m\u001b[0mX_train\u001b[0m\u001b[1;33m[\u001b[0m\u001b[0mpc_f\u001b[0m\u001b[1;33m]\u001b[0m\u001b[1;33m\u001b[0m\u001b[1;33m\u001b[0m\u001b[0m\n\u001b[0m\u001b[0;32m      5\u001b[0m \u001b[0mX_test_pc\u001b[0m\u001b[1;33m=\u001b[0m\u001b[0mX_test\u001b[0m\u001b[1;33m[\u001b[0m\u001b[0mpc_f\u001b[0m\u001b[1;33m]\u001b[0m\u001b[1;33m\u001b[0m\u001b[1;33m\u001b[0m\u001b[0m\n\u001b[0;32m      6\u001b[0m \u001b[0mpc_nmae\u001b[0m\u001b[1;33m=\u001b[0m\u001b[1;33m[\u001b[0m\u001b[1;33m]\u001b[0m\u001b[1;33m\u001b[0m\u001b[1;33m\u001b[0m\u001b[0m\n",
      "\u001b[1;31mNameError\u001b[0m: name 'X_train' is not defined"
     ]
    }
   ],
   "source": [
    "#  Pearson correlation\n",
    "pc = pd.read_csv('./Periodic/read_p_c.csv')\n",
    "pc_f= pc.iloc[2:,0].tolist()\n",
    "X_train_pc=X_train[pc_f]\n",
    "X_test_pc=X_test[pc_f]\n",
    "pc_nmae=[]\n",
    "pc_time=[]\n",
    "\n",
    "# tree based\n",
    "tb = pd.read_csv('./Periodic/read_t_b.csv')\n",
    "tb_f=tb.iloc[0:,0].tolist()\n",
    "X_train_tb=X_train[tb_f]\n",
    "X_test_tb=X_test[tb_f]\n",
    "tb_nmae=[]\n",
    "tb_time=[]\n",
    "\n",
    "# ARR\n",
    "arr = pd.read_csv('./Periodic/read_arr.csv')\n",
    "arr_f=arr.iloc[0:,0].tolist()\n",
    "X_train_arr=X_train[arr_f]\n",
    "X_test_arr=X_test[arr_f]\n",
    "arr_nmae=[]\n",
    "arr_time=[]\n"
   ]
  },
  {
   "cell_type": "markdown",
   "metadata": {},
   "source": [
    "### Pearson correlation, tree based, ARR"
   ]
  },
  {
   "cell_type": "code",
   "execution_count": 11,
   "metadata": {},
   "outputs": [],
   "source": [
    "from sklearn.ensemble import ExtraTreesClassifier, RandomForestClassifier, RandomForestRegressor\n",
    "from sklearn.feature_selection import SelectFromModel\n",
    "from sklearn import linear_model"
   ]
  },
  {
   "cell_type": "code",
   "execution_count": 12,
   "metadata": {},
   "outputs": [],
   "source": [
    "def fit_RF_reg(X,Y,X_test,Y_test):\n",
    "    start_time = time.time()\n",
    "    \n",
    "    rfr = RandomForestRegressor(n_estimators = 10, n_jobs = -1, random_state = 10,verbose = 0)\n",
    "    rfr.fit(X, Y)\n",
    "    \n",
    "    end_time = time.time()\n",
    "    timec=end_time - start_time\n",
    "\n",
    "    NMAE=np.mean(np.abs(rfr.predict(X_test) - Y_test))/np.mean(Y_test)\n",
    "    #R_squared = model_k.score(X,Y)\n",
    "    return NMAE, timec"
   ]
  },
  {
   "cell_type": "code",
   "execution_count": 13,
   "metadata": {},
   "outputs": [],
   "source": [
    "klist=[1,2,4,8,16,32,64,128,256,512,1024]\n",
    "\n",
    "def RF_training_f(klist,X_train_f,Y_train_r,X_test_f,Y_test_r,nmae,training_t):\n",
    "    for k in klist:\n",
    "        error,timec = fit_RF_reg(X_train_f.iloc[:,0:k],Y_train_r,X_test_f.iloc[:,0:k],Y_test_r)\n",
    "        nmae.append(error)\n",
    "        training_t.append(timec)"
   ]
  },
  {
   "cell_type": "code",
   "execution_count": 14,
   "metadata": {},
   "outputs": [],
   "source": [
    "r_pc_nmae=[]\n",
    "r_pc_time=[]\n",
    "RF_training_f(klist,X_train_pc,Y_train_r,X_test_pc,Y_test_r,r_pc_nmae,r_pc_time)"
   ]
  },
  {
   "cell_type": "code",
   "execution_count": 15,
   "metadata": {},
   "outputs": [],
   "source": [
    "r_tb_nmae=[]\n",
    "r_tb_time=[]\n",
    "RF_training_f(klist,X_train_tb,Y_train_r,X_test_tb,Y_test_r, r_tb_nmae,r_tb_time)"
   ]
  },
  {
   "cell_type": "code",
   "execution_count": 16,
   "metadata": {},
   "outputs": [],
   "source": [
    "r_arr_nmae=[]\n",
    "r_arr_time=[]\n",
    "RF_training_f(klist,X_train_arr,Y_train_r,X_test_arr,Y_test_r, r_arr_nmae,r_arr_time)"
   ]
  },
  {
   "cell_type": "markdown",
   "metadata": {},
   "source": [
    "#### PCA"
   ]
  },
  {
   "cell_type": "code",
   "execution_count": 21,
   "metadata": {},
   "outputs": [],
   "source": [
    "def RF_training_pca(klist,X_train_f,Y_train_r,X_test_f,Y_test_r,nmae,training_t):\n",
    "    #for k in klist:\n",
    "    for k in klist:\n",
    "        error,timec = fit_RF_reg(X_train_f[:,0:k],Y_train_r,X_test_f[:,0:k],Y_test_r)\n",
    "        nmae.append(error)\n",
    "        training_t.append(timec)\n",
    "\n",
    "r_pca_nmae=[]\n",
    "r_pca_time=[]\n",
    "RF_training_pca(klist ,X_train_pca,Y_train_r,X_test_pca,Y_test_r, r_pca_nmae,r_pca_time)"
   ]
  },
  {
   "cell_type": "markdown",
   "metadata": {},
   "source": [
    "### Plot"
   ]
  },
  {
   "cell_type": "code",
   "execution_count": 22,
   "metadata": {},
   "outputs": [
    {
     "name": "stderr",
     "output_type": "stream",
     "text": [
      "<ipython-input-22-b6f7fa64114a>:38: MatplotlibDeprecationWarning: The 'basex' parameter of __init__() has been renamed 'base' since Matplotlib 3.3; support for the old name will be dropped two minor releases later.\n",
      "  ax.set_xscale(\"log\",basex=2)\n"
     ]
    },
    {
     "data": {
      "image/png": "[encoded data removed]",
      "text/plain": [
       "<Figure size 576x288 with 2 Axes>"
      ]
     },
     "metadata": {
      "needs_background": "light"
     },
     "output_type": "display_data"
    }
   ],
   "source": [
    "#a=[1, 2,3, 4, 5,6,7,8, 10, 12, 14, 16, 18, 20, 22, 24, 26, 28, 30,     32,40,48,56,64,  96,128,192,256,512,1024]\n",
    "'''\n",
    "a = [0,1,3,7,9,11,15,19,21,23,24,25,26,27,28,29]\n",
    "\n",
    "def sortindex(list,indexs):\n",
    "    _ = []\n",
    "    for a in indexs:\n",
    "        _.append(list[a])\n",
    "    return _\n",
    "'''\n",
    "\n",
    "fig, axes = plt.subplots(nrows=1, ncols=1, figsize=(8, 4))\n",
    "ax = fig.add_axes([0, 0, 1, 1]) \n",
    "#my_xticks=list(range(1, 13))\n",
    "plt.plot(klist,r_pc_nmae,marker='o')\n",
    "plt.plot(klist,r_tb_nmae,marker='o')\n",
    "plt.plot(klist,r_arr_nmae,marker='o')\n",
    "plt.plot(klist,r_pca_nmae,marker='o')\n",
    "#plt.plot(sortindex(klist,a),sortindex(r_pc_nmae,a),marker='o')\n",
    "#plt.plot(sortindex(klist,a),sortindex(r_tb_nmae,a),marker='o')\n",
    "#plt.plot(sortindex(klist,a),sortindex(r_arr_nmae,a),marker='o')\n",
    "#plt.plot(sortindex(klist,a),sortindex(r_pca_nmae,a),marker='o')\n",
    "\n",
    "\n",
    "font_size=18\n",
    "plt.xlabel('Number of features', fontsize=font_size)\n",
    "plt.ylabel('NMAE of ReadsAvg', fontsize=font_size-4)\n",
    "plt.legend(('Univariate','Tree-based','ARR','PCA'), \n",
    "           loc=1, shadow=False, fancybox=True, fontsize=font_size-4)\n",
    "#  bbox_to_anchor=(1.01,1.0), borderaxespad = 0.,\n",
    "plt.tick_params(axis='both', which='major', labelsize=font_size-2)\n",
    "plt.tick_params(axis='both', which='minor', labelsize=font_size-4)\n",
    "\n",
    "x_major_locator=MultipleLocator(8)\n",
    "ax=plt.gca()\n",
    "#ax.xaxis.set_major_locator(x_major_locator)\n",
    "\n",
    "ax.set_xscale(\"log\",basex=2)\n",
    "ax.set_xticks([1,2,4,8,16,32,64,128,256,512,1024])\n",
    "#ax.set_ylim(0.021, 0.035)\n",
    "plt.grid()\n",
    "plt.savefig(\"./Fig/periodic_NMAE.png\",dpi=300,bbox_inches='tight')"
   ]
  },
  {
   "cell_type": "code",
   "execution_count": 182,
   "metadata": {},
   "outputs": [
    {
     "data": {
      "image/png": "[encoded data removed]",
      "text/plain": [
       "<Figure size 576x288 with 2 Axes>"
      ]
     },
     "metadata": {
      "needs_background": "light"
     },
     "output_type": "display_data"
    }
   ],
   "source": [
    "from matplotlib.pyplot import MultipleLocator\n",
    "fig, axes = plt.subplots(nrows=1, ncols=1, figsize=(8, 4))\n",
    "ax = fig.add_axes([0, 0, 1, 1]) \n",
    "#my_xticks=list(range(1, 13))\n",
    "plt.plot(klist,r_pc_time,marker='o')\n",
    "plt.plot(klist,r_tb_time,marker='o')\n",
    "plt.plot(klist,r_arr_time,marker='o')\n",
    "plt.plot(klist,r_pca_time,marker='o')\n",
    "font_size=18\n",
    "plt.xlabel('Number of features', fontsize=font_size)\n",
    "plt.ylabel('Training time (s)', fontsize=font_size-2)\n",
    "plt.legend(('Univariate','Tree-based',\n",
    "            'ARR','PCA'), loc = 2, shadow=False, fancybox=True, fontsize=font_size-4)\n",
    "plt.tick_params(axis='both', which='major', labelsize=font_size-2)\n",
    "plt.tick_params(axis='both', which='minor', labelsize=font_size-4)\n",
    "\n",
    "x_major_locator=MultipleLocator(5)\n",
    "ax=plt.gca()\n",
    "#ax.xaxis.set_major_locator(x_major_locator)\n",
    "#ax.set_xscale(\"log\",basex=2)\n",
    "#ax.set_yscale(\"log\",basey=2)\n",
    "#ax.set_xticks([1,2,4,8,16,32,64,128,256,512,1024])\n",
    "ax.set_xlim(0,200)\n",
    "ax.set_ylim(0,6)\n",
    "\n",
    "plt.grid()\n",
    "plt.savefig(\"./Fig/periodic_time1.png\",dpi=300,bbox_inches='tight')"
   ]
  },
  {
   "cell_type": "code",
   "execution_count": null,
   "metadata": {},
   "outputs": [],
   "source": []
  },
  {
   "cell_type": "code",
   "execution_count": 86,
   "metadata": {},
   "outputs": [
    {
     "data": {
      "text/plain": [
       "(10136, 1746)"
      ]
     },
     "execution_count": 86,
     "metadata": {},
     "output_type": "execute_result"
    }
   ],
   "source": [
    "X_train_arr.shape"
   ]
  },
  {
   "cell_type": "code",
   "execution_count": 87,
   "metadata": {},
   "outputs": [
    {
     "data": {
      "text/plain": [
       "(4345, 1746)"
      ]
     },
     "execution_count": 87,
     "metadata": {},
     "output_type": "execute_result"
    }
   ],
   "source": [
    "X_test_arr.shape"
   ]
  },
  {
   "cell_type": "code",
   "execution_count": 154,
   "metadata": {},
   "outputs": [
    {
     "name": "stdout",
     "output_type": "stream",
     "text": [
      "[0.11025094985961914, 0.1082301139831543, 0.10823488235473633, 0.20908141136169434, 0.20855498313903809, 0.20871615409851074, 0.20869970321655273, 0.308868408203125, 0.3095700740814209, 0.40948486328125, 0.4098384380340576, 0.5100200176239014, 0.5096621513366699, 0.6101195812225342, 0.7109758853912354, 0.7108662128448486, 0.8107385635375977, 0.8110721111297607, 0.911362886428833, 0.9114270210266113, 1.1128308773040771, 1.31304931640625, 1.6141669750213623, 1.7144603729248047, 2.61845326423645, 3.4223780632019043, 4.827849626541138, 6.042173147201538, 9.280692338943481, 15.102791786193848]\n",
      "[0.10915637016296387, 0.10806560516357422, 0.2085425853729248, 0.2087094783782959, 0.20837640762329102, 0.20828723907470703, 0.30906009674072266, 0.3091254234313965, 0.4091644287109375, 0.4091935157775879, 0.509434700012207, 0.6099522113800049, 0.6097030639648438, 0.7102608680725098, 0.7101824283599854, 0.8104884624481201, 0.810936450958252, 0.8108189105987549, 0.9118568897247314, 0.9116325378417969, 1.212773323059082, 1.312648057937622, 1.613570213317871, 1.8145756721496582, 2.6180202960968018, 3.3211312294006348, 4.626260757446289, 4.826933860778809, 4.826691627502441, 4.726948022842407]\n",
      "[0.11048316955566406, 0.10795831680297852, 0.10831880569458008, 0.10843563079833984, 0.10843563079833984, 0.10837388038635254, 0.10823297500610352, 0.10831904411315918, 0.108642578125, 0.10873055458068848, 0.1085367202758789, 0.10879659652709961, 0.10877299308776855, 0.20920681953430176, 0.2090768814086914, 0.3096580505371094, 0.3099856376647949, 0.410275936126709, 0.5102062225341797, 0.5104937553405762, 0.8116986751556396, 1.0122101306915283, 1.2134110927581787, 1.4135468006134033, 2.417682647705078, 3.321726083755493, 4.525531053543091, 6.232040166854858, 10.960148572921753, 15.704745769500732]\n",
      "[0.11068534851074219, 0.10703325271606445, 0.10720109939575195, 0.20750713348388672, 0.2075192928314209, 0.20719432830810547, 0.20731353759765625, 0.3075892925262451, 0.3075852394104004, 0.40808939933776855, 0.4079930782318115, 0.5084645748138428, 0.5082168579101562, 0.6087267398834229, 0.6086773872375488, 0.6084585189819336, 0.7092576026916504, 0.7088451385498047, 0.8092441558837891, 0.8091366291046143, 1.110116958618164, 1.3108208179473877, 1.51151442527771, 1.712052345275879, 2.4143178462982178, 3.2164883613586426, 4.721141815185547, 6.2258620262146, 12.345088481903076, 25.592973709106445]\n"
     ]
    }
   ],
   "source": [
    "print(r_pc_time)\n",
    "print(r_tb_time)\n",
    "print(r_arr_time)\n",
    "print(r_pca_time)"
   ]
  },
  {
   "cell_type": "code",
   "execution_count": 114,
   "metadata": {},
   "outputs": [
    {
     "name": "stderr",
     "output_type": "stream",
     "text": [
      "/opt/conda/lib/python3.7/site-packages/ipykernel_launcher.py:24: MatplotlibDeprecationWarning: The 'basex' parameter of __init__() has been renamed 'base' since Matplotlib 3.3; support for the old name will be dropped two minor releases later.\n",
      "/opt/conda/lib/python3.7/site-packages/ipykernel_launcher.py:25: MatplotlibDeprecationWarning: The 'basey' parameter of __init__() has been renamed 'base' since Matplotlib 3.3; support for the old name will be dropped two minor releases later.\n"
     ]
    },
    {
     "data": {
      "image/png": "[encoded data removed]",
      "text/plain": [
       "<Figure size 576x288 with 2 Axes>"
      ]
     },
     "metadata": {
      "needs_background": "light"
     },
     "output_type": "display_data"
    }
   ],
   "source": [
    "y = np.sqrt(klist)/5 \n",
    "y2 = [_**(0.3)-1.9 for _ in klist]\n",
    "from matplotlib.pyplot import MultipleLocator\n",
    "fig, axes = plt.subplots(nrows=1, ncols=1, figsize=(8, 4))\n",
    "ax = fig.add_axes([0, 0, 1, 1]) \n",
    "#my_xticks=list(range(1, 13))\n",
    "plt.plot(klist,r_pc_time,marker='o')\n",
    "#plt.plot(klist,y,marker='o')\n",
    "plt.plot(klist,y2,marker='o')\n",
    "# plt.plot(klist,r_tb_time,marker='o')\n",
    "# plt.plot(klist,r_arr_time,marker='o')\n",
    "# plt.plot(klist,r_pca_time,marker='o')\n",
    "font_size=18\n",
    "plt.xlabel('Number of features', fontsize=font_size)\n",
    "plt.ylabel('Training time (s)', fontsize=font_size-2)\n",
    "#plt.legend(('Univariate','Tree-based',\n",
    "#            'ARR','PCA'), loc = 2, shadow=False, fancybox=True, fontsize=font_size-4)\n",
    "plt.tick_params(axis='both', which='major', labelsize=font_size-2)\n",
    "plt.tick_params(axis='both', which='minor', labelsize=font_size-4)\n",
    "\n",
    "x_major_locator=MultipleLocator(5)\n",
    "ax=plt.gca()\n",
    "ax.xaxis.set_major_locator(x_major_locator)\n",
    "ax.set_xscale(\"log\",basex=2)\n",
    "ax.set_yscale(\"log\",basey=2)\n",
    "plt.grid()\n",
    "#plt.savefig(\"./Fig/periodic_time.png\",dpi=300,bbox_inches='tight')"
   ]
  },
  {
   "cell_type": "code",
   "execution_count": 155,
   "metadata": {},
   "outputs": [
    {
     "name": "stdout",
     "output_type": "stream",
     "text": [
      "[0.02688426717409696, 0.02984268461519349, 0.025493544932640083, 0.025319259850260286, 0.025077256468138603, 0.02518787797931604, 0.024701703373378667, 0.024775847785562903, 0.025019769258031444, 0.024789913863662763, 0.024399296137638686, 0.024274376145996528, 0.02427880955102306, 0.024392776825804364, 0.024560707781685464, 0.02430176365262376, 0.02454773127724111, 0.024285201993284128, 0.024092596138741918, 0.02406062562294787, 0.024498156477594225, 0.023719229303553215, 0.023665173409733623, 0.023353230647000057, 0.02310143721762286, 0.023169676603508865, 0.023024969316238028, 0.022975019786791975, 0.02263993578367048, 0.022542296162522124]\n",
      "[0.03155552253173212, 0.02856750790694559, 0.02764167958046594, 0.027137577144485954, 0.02703547862928472, 0.02685659298319877, 0.02695131665972863, 0.026925653321291154, 0.027208505211542448, 0.027373443139055834, 0.027216951493771416, 0.02696336733695661, 0.026834765249896378, 0.0269486810121776, 0.026597417685112396, 0.026616565493958112, 0.0242022033511145, 0.024459624428627143, 0.02445220576527477, 0.024339490947249753, 0.02405031247509279, 0.02368352369983295, 0.023503800081448974, 0.023610428407752404, 0.02320512517917593, 0.023178167327088692, 0.022805036018726122, 0.022837133568538656, 0.022837133568538656, 0.022837133568538653]\n",
      "[0.04395548666179423, 0.04379728440981602, 0.04421594723896672, 0.044663663660146936, 0.044964430205809786, 0.04507792763919687, 0.045269109325519065, 0.045744175979669864, 0.04552546592407545, 0.04588602142659209, 0.04606612035099271, 0.04639620947594953, 0.04608601764847048, 0.04510995880898269, 0.04538758398309745, 0.027404008428380658, 0.026843066409120413, 0.027013997135627913, 0.026690392033316596, 0.026184324064511502, 0.02615274607972389, 0.025494932933460755, 0.025529530997873206, 0.025867684126439666, 0.02529395385152809, 0.02519011114691811, 0.02428838343489028, 0.024062002112595432, 0.022503359948041403, 0.022570107485879874]\n",
      "[0.03352733518485046, 0.027262245986995334, 0.025666071683312565, 0.02594523543477988, 0.02568614116713028, 0.02543719260087721, 0.025811542325812436, 0.025658007325366043, 0.025673557851473506, 0.02644078539795798, 0.026766878517023848, 0.02653789398401955, 0.02755996089853445, 0.026852811727245733, 0.027414679450388446, 0.027084722112699817, 0.027952599205458235, 0.02831685868818529, 0.027291498920352025, 0.027061279361796593, 0.027048447404798632, 0.026904480080408376, 0.02707419444590968, 0.0270630417224145, 0.02682366827336873, 0.02727896559607604, 0.02743382742367966, 0.0269916513995313, 0.026904699080478465, 0.026269666998215924]\n"
     ]
    }
   ],
   "source": [
    "print(r_pc_nmae)\n",
    "print(r_tb_nmae)\n",
    "print(r_arr_nmae)\n",
    "print(r_pca_nmae)"
   ]
  },
  {
   "cell_type": "code",
   "execution_count": null,
   "metadata": {},
   "outputs": [],
   "source": [
    "# [1, 2,3, 4, 5,6,7,8, 10, 12, 14, 16, 18, 20, 22, 24, 26, 28, 30,     32,40,48,56,64,  96,128,192,256,512,1024]"
   ]
  }
 ],
 "metadata": {
  "environment": {
   "name": "pytorch-gpu.1-6.m59",
   "type": "gcloud",
   "uri": "gcr.io/deeplearning-platform-release/pytorch-gpu.1-6:m59"
  },
  "kernelspec": {
   "display_name": "Python 3",
   "language": "python",
   "name": "python3"
  },
  "language_info": {
   "codemirror_mode": {
    "name": "ipython",
    "version": 3
   },
   "file_extension": ".py",
   "mimetype": "text/x-python",
   "name": "python",
   "nbconvert_exporter": "python",
   "pygments_lexer": "ipython3",
   "version": "3.8.5"
  }
 },
 "nbformat": 4,
 "nbformat_minor": 4
}
